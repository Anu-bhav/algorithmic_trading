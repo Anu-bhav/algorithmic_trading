{
 "cells": [
  {
   "cell_type": "markdown",
   "metadata": {},
   "source": [
    "**References:**  \n",
    "\n",
    "https://www.datacamp.com/community/tutorials/finance-python-trading\n",
    "\n",
    "https://github.com/datacamp/datacamp-community-tutorials/blob/master/Python%20Finance%20Tutorial%20For%20Beginners/Python%20For%20Finance%20Beginners%20Tutorial.ipynb\n",
    "\n",
    "https://pypi.python.org/pypi/fix-yahoo-finance\n",
    "\n",
    "http://www.learndatasci.com/python-finance-part-yahoo-finance-api-pandas-matplotlib/"
   ]
  },
  {
   "cell_type": "markdown",
   "metadata": {},
   "source": [
    "### Python for Finance: Stock Portfolio Analyses\n",
    "\n",
    "https://towardsdatascience.com/python-for-finance-stock-portfolio-analyses-6da4c3e61054"
   ]
  },
  {
   "cell_type": "code",
   "execution_count": 1,
   "metadata": {
    "collapsed": true
   },
   "outputs": [],
   "source": [
    "# Import initial libraries\n",
    "\n",
    "import pandas as pd\n",
    "import numpy as np\n",
    "import datetime\n",
    "import matplotlib.pyplot as plt\n",
    "%matplotlib inline"
   ]
  },
  {
   "cell_type": "code",
   "execution_count": 2,
   "metadata": {},
   "outputs": [
    {
     "name": "stdout",
     "output_type": "stream",
     "text": [
      "5.22.0\n"
     ]
    },
    {
     "data": {
      "text/html": [
       "        <script type=\"text/javascript\">\n",
       "        window.PlotlyConfig = {MathJaxConfig: 'local'};\n",
       "        if (window.MathJax && window.MathJax.Hub && window.MathJax.Hub.Config) {window.MathJax.Hub.Config({SVG: {font: \"STIX-Web\"}});}\n",
       "        if (typeof require !== 'undefined') {\n",
       "        require.undef(\"plotly\");\n",
       "        requirejs.config({\n",
       "            paths: {\n",
       "                'plotly': ['https://cdn.plot.ly/plotly-2.32.0.min']\n",
       "            }\n",
       "        });\n",
       "        require(['plotly'], function(Plotly) {\n",
       "            window._Plotly = Plotly;\n",
       "        });\n",
       "        }\n",
       "        </script>\n",
       "        "
      ]
     },
     "metadata": {},
     "output_type": "display_data"
    }
   ],
   "source": [
    "# Imports in order to be able to use Plotly offline.\n",
    "from plotly import __version__\n",
    "from plotly.offline import download_plotlyjs, init_notebook_mode, plot, iplot\n",
    "\n",
    "import plotly.graph_objs as go\n",
    "\n",
    "print(__version__)  # requires version >= 1.9.0\n",
    "\n",
    "init_notebook_mode(connected=True)"
   ]
  },
  {
   "cell_type": "code",
   "execution_count": 3,
   "metadata": {},
   "outputs": [
    {
     "data": {
      "text/html": [
       "<div>\n",
       "<style scoped>\n",
       "    .dataframe tbody tr th:only-of-type {\n",
       "        vertical-align: middle;\n",
       "    }\n",
       "\n",
       "    .dataframe tbody tr th {\n",
       "        vertical-align: top;\n",
       "    }\n",
       "\n",
       "    .dataframe thead th {\n",
       "        text-align: right;\n",
       "    }\n",
       "</style>\n",
       "<table border=\"1\" class=\"dataframe\">\n",
       "  <thead>\n",
       "    <tr style=\"text-align: right;\">\n",
       "      <th></th>\n",
       "      <th>Acquisition Date</th>\n",
       "      <th>Ticker</th>\n",
       "      <th>Quantity</th>\n",
       "      <th>Unit Cost</th>\n",
       "      <th>Cost Basis</th>\n",
       "      <th>Start of Year</th>\n",
       "    </tr>\n",
       "  </thead>\n",
       "  <tbody>\n",
       "    <tr>\n",
       "      <th>0</th>\n",
       "      <td>2013-02-07</td>\n",
       "      <td>AAPL</td>\n",
       "      <td>125</td>\n",
       "      <td>65.40</td>\n",
       "      <td>8175.00</td>\n",
       "      <td>2017-12-29</td>\n",
       "    </tr>\n",
       "    <tr>\n",
       "      <th>1</th>\n",
       "      <td>2014-02-27</td>\n",
       "      <td>JNJ</td>\n",
       "      <td>100</td>\n",
       "      <td>81.90</td>\n",
       "      <td>8190.00</td>\n",
       "      <td>2017-12-29</td>\n",
       "    </tr>\n",
       "    <tr>\n",
       "      <th>2</th>\n",
       "      <td>2013-06-04</td>\n",
       "      <td>MCD</td>\n",
       "      <td>100</td>\n",
       "      <td>84.99</td>\n",
       "      <td>8499.00</td>\n",
       "      <td>2017-12-29</td>\n",
       "    </tr>\n",
       "    <tr>\n",
       "      <th>3</th>\n",
       "      <td>2015-12-14</td>\n",
       "      <td>MTCH</td>\n",
       "      <td>600</td>\n",
       "      <td>13.63</td>\n",
       "      <td>8178.00</td>\n",
       "      <td>2017-12-29</td>\n",
       "    </tr>\n",
       "    <tr>\n",
       "      <th>4</th>\n",
       "      <td>2016-01-14</td>\n",
       "      <td>NFLX</td>\n",
       "      <td>75</td>\n",
       "      <td>108.71</td>\n",
       "      <td>8153.25</td>\n",
       "      <td>2017-12-29</td>\n",
       "    </tr>\n",
       "    <tr>\n",
       "      <th>5</th>\n",
       "      <td>2013-08-14</td>\n",
       "      <td>WMT</td>\n",
       "      <td>125</td>\n",
       "      <td>68.30</td>\n",
       "      <td>8537.50</td>\n",
       "      <td>2017-12-29</td>\n",
       "    </tr>\n",
       "    <tr>\n",
       "      <th>6</th>\n",
       "      <td>2013-12-13</td>\n",
       "      <td>FB</td>\n",
       "      <td>150</td>\n",
       "      <td>53.32</td>\n",
       "      <td>7998.00</td>\n",
       "      <td>2017-12-29</td>\n",
       "    </tr>\n",
       "    <tr>\n",
       "      <th>7</th>\n",
       "      <td>2015-01-05</td>\n",
       "      <td>TWTR</td>\n",
       "      <td>225</td>\n",
       "      <td>36.38</td>\n",
       "      <td>8185.50</td>\n",
       "      <td>2017-12-29</td>\n",
       "    </tr>\n",
       "  </tbody>\n",
       "</table>\n",
       "</div>"
      ],
      "text/plain": [
       "  Acquisition Date Ticker  Quantity  Unit Cost  Cost Basis Start of Year\n",
       "0       2013-02-07   AAPL       125      65.40     8175.00    2017-12-29\n",
       "1       2014-02-27    JNJ       100      81.90     8190.00    2017-12-29\n",
       "2       2013-06-04    MCD       100      84.99     8499.00    2017-12-29\n",
       "3       2015-12-14   MTCH       600      13.63     8178.00    2017-12-29\n",
       "4       2016-01-14   NFLX        75     108.71     8153.25    2017-12-29\n",
       "5       2013-08-14    WMT       125      68.30     8537.50    2017-12-29\n",
       "6       2013-12-13     FB       150      53.32     7998.00    2017-12-29\n",
       "7       2015-01-05   TWTR       225      36.38     8185.50    2017-12-29"
      ]
     },
     "execution_count": 3,
     "metadata": {},
     "output_type": "execute_result"
    }
   ],
   "source": [
    "# Import the Sample worksheet with acquisition dates and initial cost basis:\n",
    "\n",
    "portfolio_df = pd.read_excel(\"Sample stocks acquisition dates_costs.xlsx\", sheet_name=\"Sample\")\n",
    "\n",
    "portfolio_df.head(10)"
   ]
  },
  {
   "cell_type": "code",
   "execution_count": 4,
   "metadata": {},
   "outputs": [
    {
     "name": "stdout",
     "output_type": "stream",
     "text": [
      "<class 'pandas.core.frame.DataFrame'>\n",
      "RangeIndex: 8 entries, 0 to 7\n",
      "Data columns (total 6 columns):\n",
      " #   Column            Non-Null Count  Dtype         \n",
      "---  ------            --------------  -----         \n",
      " 0   Acquisition Date  8 non-null      datetime64[ns]\n",
      " 1   Ticker            8 non-null      object        \n",
      " 2   Quantity          8 non-null      int64         \n",
      " 3   Unit Cost         8 non-null      float64       \n",
      " 4   Cost Basis        8 non-null      float64       \n",
      " 5   Start of Year     8 non-null      datetime64[ns]\n",
      "dtypes: datetime64[ns](2), float64(2), int64(1), object(1)\n",
      "memory usage: 512.0+ bytes\n"
     ]
    }
   ],
   "source": [
    "# Confirm that you have 8 values for each column.\n",
    "\n",
    "portfolio_df.info()"
   ]
  },
  {
   "cell_type": "code",
   "execution_count": 5,
   "metadata": {
    "collapsed": true
   },
   "outputs": [],
   "source": [
    "# Date Ranges for SP 500 and for all tickers\n",
    "# Modify these date ranges each week.\n",
    "\n",
    "# The below will pull back stock prices from 2010 until end date specified.\n",
    "start_sp = datetime.datetime(2013, 1, 1)\n",
    "end_sp = datetime.datetime(2018, 3, 9)\n",
    "\n",
    "# This variable is used for YTD performance.\n",
    "end_of_last_year = datetime.datetime(2017, 12, 29)\n",
    "\n",
    "# These are separate if for some reason want different date range than SP.\n",
    "stocks_start = datetime.datetime(2013, 1, 1)\n",
    "stocks_end = datetime.datetime(2018, 3, 9)"
   ]
  },
  {
   "cell_type": "code",
   "execution_count": 6,
   "metadata": {},
   "outputs": [
    {
     "name": "stderr",
     "output_type": "stream",
     "text": [
      "[*********************100%%**********************]  1 of 1 completed\n"
     ]
    },
    {
     "data": {
      "text/html": [
       "<div>\n",
       "<style scoped>\n",
       "    .dataframe tbody tr th:only-of-type {\n",
       "        vertical-align: middle;\n",
       "    }\n",
       "\n",
       "    .dataframe tbody tr th {\n",
       "        vertical-align: top;\n",
       "    }\n",
       "\n",
       "    .dataframe thead th {\n",
       "        text-align: right;\n",
       "    }\n",
       "</style>\n",
       "<table border=\"1\" class=\"dataframe\">\n",
       "  <thead>\n",
       "    <tr style=\"text-align: right;\">\n",
       "      <th></th>\n",
       "      <th>Open</th>\n",
       "      <th>High</th>\n",
       "      <th>Low</th>\n",
       "      <th>Close</th>\n",
       "      <th>Adj Close</th>\n",
       "      <th>Volume</th>\n",
       "    </tr>\n",
       "    <tr>\n",
       "      <th>Date</th>\n",
       "      <th></th>\n",
       "      <th></th>\n",
       "      <th></th>\n",
       "      <th></th>\n",
       "      <th></th>\n",
       "      <th></th>\n",
       "    </tr>\n",
       "  </thead>\n",
       "  <tbody>\n",
       "    <tr>\n",
       "      <th>2013-01-02</th>\n",
       "      <td>1426.189941</td>\n",
       "      <td>1462.430054</td>\n",
       "      <td>1426.189941</td>\n",
       "      <td>1462.420044</td>\n",
       "      <td>1462.420044</td>\n",
       "      <td>4202600000</td>\n",
       "    </tr>\n",
       "    <tr>\n",
       "      <th>2013-01-03</th>\n",
       "      <td>1462.420044</td>\n",
       "      <td>1465.469971</td>\n",
       "      <td>1455.530029</td>\n",
       "      <td>1459.369995</td>\n",
       "      <td>1459.369995</td>\n",
       "      <td>3829730000</td>\n",
       "    </tr>\n",
       "    <tr>\n",
       "      <th>2013-01-04</th>\n",
       "      <td>1459.369995</td>\n",
       "      <td>1467.939941</td>\n",
       "      <td>1458.989990</td>\n",
       "      <td>1466.469971</td>\n",
       "      <td>1466.469971</td>\n",
       "      <td>3424290000</td>\n",
       "    </tr>\n",
       "    <tr>\n",
       "      <th>2013-01-07</th>\n",
       "      <td>1466.469971</td>\n",
       "      <td>1466.469971</td>\n",
       "      <td>1456.619995</td>\n",
       "      <td>1461.890015</td>\n",
       "      <td>1461.890015</td>\n",
       "      <td>3304970000</td>\n",
       "    </tr>\n",
       "    <tr>\n",
       "      <th>2013-01-08</th>\n",
       "      <td>1461.890015</td>\n",
       "      <td>1461.890015</td>\n",
       "      <td>1451.640015</td>\n",
       "      <td>1457.150024</td>\n",
       "      <td>1457.150024</td>\n",
       "      <td>3601600000</td>\n",
       "    </tr>\n",
       "  </tbody>\n",
       "</table>\n",
       "</div>"
      ],
      "text/plain": [
       "                   Open         High          Low        Close    Adj Close  \\\n",
       "Date                                                                          \n",
       "2013-01-02  1426.189941  1462.430054  1426.189941  1462.420044  1462.420044   \n",
       "2013-01-03  1462.420044  1465.469971  1455.530029  1459.369995  1459.369995   \n",
       "2013-01-04  1459.369995  1467.939941  1458.989990  1466.469971  1466.469971   \n",
       "2013-01-07  1466.469971  1466.469971  1456.619995  1461.890015  1461.890015   \n",
       "2013-01-08  1461.890015  1461.890015  1451.640015  1457.150024  1457.150024   \n",
       "\n",
       "                Volume  \n",
       "Date                    \n",
       "2013-01-02  4202600000  \n",
       "2013-01-03  3829730000  \n",
       "2013-01-04  3424290000  \n",
       "2013-01-07  3304970000  \n",
       "2013-01-08  3601600000  "
      ]
     },
     "execution_count": 6,
     "metadata": {},
     "output_type": "execute_result"
    }
   ],
   "source": [
    "# Leveraged from the helpful Datacamp Python Finance trading blog post.\n",
    "\n",
    "from pandas_datareader import data as pdr\n",
    "import yfinance as yf\n",
    "\n",
    "yf.pdr_override()  # <== that's all it takes :-)\n",
    "\n",
    "sp500 = pdr.get_data_yahoo(\"^GSPC\", start_sp, end_sp)\n",
    "\n",
    "sp500.head()"
   ]
  },
  {
   "cell_type": "code",
   "execution_count": 7,
   "metadata": {},
   "outputs": [
    {
     "data": {
      "text/html": [
       "<div>\n",
       "<style scoped>\n",
       "    .dataframe tbody tr th:only-of-type {\n",
       "        vertical-align: middle;\n",
       "    }\n",
       "\n",
       "    .dataframe tbody tr th {\n",
       "        vertical-align: top;\n",
       "    }\n",
       "\n",
       "    .dataframe thead th {\n",
       "        text-align: right;\n",
       "    }\n",
       "</style>\n",
       "<table border=\"1\" class=\"dataframe\">\n",
       "  <thead>\n",
       "    <tr style=\"text-align: right;\">\n",
       "      <th></th>\n",
       "      <th>Open</th>\n",
       "      <th>High</th>\n",
       "      <th>Low</th>\n",
       "      <th>Close</th>\n",
       "      <th>Adj Close</th>\n",
       "      <th>Volume</th>\n",
       "    </tr>\n",
       "    <tr>\n",
       "      <th>Date</th>\n",
       "      <th></th>\n",
       "      <th></th>\n",
       "      <th></th>\n",
       "      <th></th>\n",
       "      <th></th>\n",
       "      <th></th>\n",
       "    </tr>\n",
       "  </thead>\n",
       "  <tbody>\n",
       "    <tr>\n",
       "      <th>2018-03-02</th>\n",
       "      <td>2658.889893</td>\n",
       "      <td>2696.250000</td>\n",
       "      <td>2647.320068</td>\n",
       "      <td>2691.250000</td>\n",
       "      <td>2691.250000</td>\n",
       "      <td>3891250000</td>\n",
       "    </tr>\n",
       "    <tr>\n",
       "      <th>2018-03-05</th>\n",
       "      <td>2681.060059</td>\n",
       "      <td>2728.090088</td>\n",
       "      <td>2675.750000</td>\n",
       "      <td>2720.939941</td>\n",
       "      <td>2720.939941</td>\n",
       "      <td>3733640000</td>\n",
       "    </tr>\n",
       "    <tr>\n",
       "      <th>2018-03-06</th>\n",
       "      <td>2730.179932</td>\n",
       "      <td>2732.080078</td>\n",
       "      <td>2711.260010</td>\n",
       "      <td>2728.120117</td>\n",
       "      <td>2728.120117</td>\n",
       "      <td>3389030000</td>\n",
       "    </tr>\n",
       "    <tr>\n",
       "      <th>2018-03-07</th>\n",
       "      <td>2710.179932</td>\n",
       "      <td>2730.600098</td>\n",
       "      <td>2701.739990</td>\n",
       "      <td>2726.800049</td>\n",
       "      <td>2726.800049</td>\n",
       "      <td>3406690000</td>\n",
       "    </tr>\n",
       "    <tr>\n",
       "      <th>2018-03-08</th>\n",
       "      <td>2732.750000</td>\n",
       "      <td>2740.449951</td>\n",
       "      <td>2722.649902</td>\n",
       "      <td>2738.969971</td>\n",
       "      <td>2738.969971</td>\n",
       "      <td>3206040000</td>\n",
       "    </tr>\n",
       "  </tbody>\n",
       "</table>\n",
       "</div>"
      ],
      "text/plain": [
       "                   Open         High          Low        Close    Adj Close  \\\n",
       "Date                                                                          \n",
       "2018-03-02  2658.889893  2696.250000  2647.320068  2691.250000  2691.250000   \n",
       "2018-03-05  2681.060059  2728.090088  2675.750000  2720.939941  2720.939941   \n",
       "2018-03-06  2730.179932  2732.080078  2711.260010  2728.120117  2728.120117   \n",
       "2018-03-07  2710.179932  2730.600098  2701.739990  2726.800049  2726.800049   \n",
       "2018-03-08  2732.750000  2740.449951  2722.649902  2738.969971  2738.969971   \n",
       "\n",
       "                Volume  \n",
       "Date                    \n",
       "2018-03-02  3891250000  \n",
       "2018-03-05  3733640000  \n",
       "2018-03-06  3389030000  \n",
       "2018-03-07  3406690000  \n",
       "2018-03-08  3206040000  "
      ]
     },
     "execution_count": 7,
     "metadata": {},
     "output_type": "execute_result"
    }
   ],
   "source": [
    "sp500.tail()"
   ]
  },
  {
   "cell_type": "code",
   "execution_count": 10,
   "metadata": {
    "collapsed": true
   },
   "outputs": [],
   "source": [
    "# Create a dataframe with only the Adj Close column as that's all we need for this analysis.\n",
    "\n",
    "sp_500_adj_close = sp500[[\"Adj Close\"]].reset_index()"
   ]
  },
  {
   "cell_type": "code",
   "execution_count": 11,
   "metadata": {},
   "outputs": [
    {
     "data": {
      "text/html": [
       "<div>\n",
       "<style scoped>\n",
       "    .dataframe tbody tr th:only-of-type {\n",
       "        vertical-align: middle;\n",
       "    }\n",
       "\n",
       "    .dataframe tbody tr th {\n",
       "        vertical-align: top;\n",
       "    }\n",
       "\n",
       "    .dataframe thead th {\n",
       "        text-align: right;\n",
       "    }\n",
       "</style>\n",
       "<table border=\"1\" class=\"dataframe\">\n",
       "  <thead>\n",
       "    <tr style=\"text-align: right;\">\n",
       "      <th></th>\n",
       "      <th>Date</th>\n",
       "      <th>Adj Close</th>\n",
       "    </tr>\n",
       "  </thead>\n",
       "  <tbody>\n",
       "    <tr>\n",
       "      <th>1300</th>\n",
       "      <td>2018-03-02</td>\n",
       "      <td>2691.250000</td>\n",
       "    </tr>\n",
       "    <tr>\n",
       "      <th>1301</th>\n",
       "      <td>2018-03-05</td>\n",
       "      <td>2720.939941</td>\n",
       "    </tr>\n",
       "    <tr>\n",
       "      <th>1302</th>\n",
       "      <td>2018-03-06</td>\n",
       "      <td>2728.120117</td>\n",
       "    </tr>\n",
       "    <tr>\n",
       "      <th>1303</th>\n",
       "      <td>2018-03-07</td>\n",
       "      <td>2726.800049</td>\n",
       "    </tr>\n",
       "    <tr>\n",
       "      <th>1304</th>\n",
       "      <td>2018-03-08</td>\n",
       "      <td>2738.969971</td>\n",
       "    </tr>\n",
       "  </tbody>\n",
       "</table>\n",
       "</div>"
      ],
      "text/plain": [
       "           Date    Adj Close\n",
       "1300 2018-03-02  2691.250000\n",
       "1301 2018-03-05  2720.939941\n",
       "1302 2018-03-06  2728.120117\n",
       "1303 2018-03-07  2726.800049\n",
       "1304 2018-03-08  2738.969971"
      ]
     },
     "execution_count": 11,
     "metadata": {},
     "output_type": "execute_result"
    }
   ],
   "source": [
    "sp_500_adj_close.tail()"
   ]
  },
  {
   "cell_type": "code",
   "execution_count": 12,
   "metadata": {},
   "outputs": [
    {
     "data": {
      "text/html": [
       "<div>\n",
       "<style scoped>\n",
       "    .dataframe tbody tr th:only-of-type {\n",
       "        vertical-align: middle;\n",
       "    }\n",
       "\n",
       "    .dataframe tbody tr th {\n",
       "        vertical-align: top;\n",
       "    }\n",
       "\n",
       "    .dataframe thead th {\n",
       "        text-align: right;\n",
       "    }\n",
       "</style>\n",
       "<table border=\"1\" class=\"dataframe\">\n",
       "  <thead>\n",
       "    <tr style=\"text-align: right;\">\n",
       "      <th></th>\n",
       "      <th>Date</th>\n",
       "      <th>Adj Close</th>\n",
       "    </tr>\n",
       "  </thead>\n",
       "  <tbody>\n",
       "    <tr>\n",
       "      <th>1258</th>\n",
       "      <td>2017-12-29</td>\n",
       "      <td>2673.610107</td>\n",
       "    </tr>\n",
       "  </tbody>\n",
       "</table>\n",
       "</div>"
      ],
      "text/plain": [
       "           Date    Adj Close\n",
       "1258 2017-12-29  2673.610107"
      ]
     },
     "execution_count": 12,
     "metadata": {},
     "output_type": "execute_result"
    }
   ],
   "source": [
    "# Adj Close for the EOY in 2017 in order to run comparisons versus stocks YTD performances.\n",
    "\n",
    "sp_500_adj_close_start = sp_500_adj_close[sp_500_adj_close[\"Date\"] == end_of_last_year]\n",
    "sp_500_adj_close_start"
   ]
  },
  {
   "cell_type": "code",
   "execution_count": 13,
   "metadata": {},
   "outputs": [
    {
     "data": {
      "text/plain": [
       "array(['AAPL', 'JNJ', 'MCD', 'MTCH', 'NFLX', 'WMT', 'FB', 'TWTR'],\n",
       "      dtype=object)"
      ]
     },
     "execution_count": 13,
     "metadata": {},
     "output_type": "execute_result"
    }
   ],
   "source": [
    "# Generate a dynamic list of tickers to pull from Yahoo Finance API based on the imported file with tickers.\n",
    "tickers = portfolio_df[\"Ticker\"].unique()\n",
    "tickers"
   ]
  },
  {
   "cell_type": "code",
   "execution_count": 14,
   "metadata": {},
   "outputs": [
    {
     "name": "stderr",
     "output_type": "stream",
     "text": [
      "[*********************100%%**********************]  1 of 1 completed\n",
      "[*********************100%%**********************]  1 of 1 completed\n",
      "[*********************100%%**********************]  1 of 1 completed\n",
      "[*********************100%%**********************]  1 of 1 completed\n",
      "[*********************100%%**********************]  1 of 1 completed\n",
      "[*********************100%%**********************]  1 of 1 completed\n",
      "[*********************100%%**********************]  1 of 1 completed\n",
      "\n",
      "1 Failed download:\n",
      "['FB']: Exception('%ticker%: No timezone found, symbol may be delisted')\n",
      "[*********************100%%**********************]  1 of 1 completed\n",
      "\n",
      "1 Failed download:\n",
      "['TWTR']: Exception('%ticker%: No timezone found, symbol may be delisted')\n",
      "/tmp/ipykernel_1031/2562536656.py:9: FutureWarning:\n",
      "\n",
      "The behavior of array concatenation with empty entries is deprecated. In a future version, this will no longer exclude empty items when determining the result dtype. To retain the old behavior, exclude the empty entries before the concat operation.\n",
      "\n"
     ]
    }
   ],
   "source": [
    "# Stock comparison code\n",
    "\n",
    "\n",
    "def get(tickers, startdate, enddate):\n",
    "    def data(ticker):\n",
    "        return pdr.get_data_yahoo(ticker, start=startdate, end=enddate)\n",
    "\n",
    "    datas = map(data, tickers)\n",
    "    return pd.concat(datas, keys=tickers, names=[\"Ticker\", \"Date\"])\n",
    "\n",
    "\n",
    "all_data = get(tickers, stocks_start, stocks_end)"
   ]
  },
  {
   "cell_type": "code",
   "execution_count": 15,
   "metadata": {},
   "outputs": [
    {
     "data": {
      "text/html": [
       "<div>\n",
       "<style scoped>\n",
       "    .dataframe tbody tr th:only-of-type {\n",
       "        vertical-align: middle;\n",
       "    }\n",
       "\n",
       "    .dataframe tbody tr th {\n",
       "        vertical-align: top;\n",
       "    }\n",
       "\n",
       "    .dataframe thead th {\n",
       "        text-align: right;\n",
       "    }\n",
       "</style>\n",
       "<table border=\"1\" class=\"dataframe\">\n",
       "  <thead>\n",
       "    <tr style=\"text-align: right;\">\n",
       "      <th></th>\n",
       "      <th></th>\n",
       "      <th>Open</th>\n",
       "      <th>High</th>\n",
       "      <th>Low</th>\n",
       "      <th>Close</th>\n",
       "      <th>Adj Close</th>\n",
       "      <th>Volume</th>\n",
       "    </tr>\n",
       "    <tr>\n",
       "      <th>Ticker</th>\n",
       "      <th>Date</th>\n",
       "      <th></th>\n",
       "      <th></th>\n",
       "      <th></th>\n",
       "      <th></th>\n",
       "      <th></th>\n",
       "      <th></th>\n",
       "    </tr>\n",
       "  </thead>\n",
       "  <tbody>\n",
       "    <tr>\n",
       "      <th rowspan=\"5\" valign=\"top\">AAPL</th>\n",
       "      <th>2013-01-02</th>\n",
       "      <td>19.779285</td>\n",
       "      <td>19.821428</td>\n",
       "      <td>19.343929</td>\n",
       "      <td>19.608213</td>\n",
       "      <td>16.725033</td>\n",
       "      <td>560518000.0</td>\n",
       "    </tr>\n",
       "    <tr>\n",
       "      <th>2013-01-03</th>\n",
       "      <td>19.567142</td>\n",
       "      <td>19.631071</td>\n",
       "      <td>19.321428</td>\n",
       "      <td>19.360714</td>\n",
       "      <td>16.513929</td>\n",
       "      <td>352965200.0</td>\n",
       "    </tr>\n",
       "    <tr>\n",
       "      <th>2013-01-04</th>\n",
       "      <td>19.177500</td>\n",
       "      <td>19.236786</td>\n",
       "      <td>18.779642</td>\n",
       "      <td>18.821428</td>\n",
       "      <td>16.053942</td>\n",
       "      <td>594333600.0</td>\n",
       "    </tr>\n",
       "    <tr>\n",
       "      <th>2013-01-07</th>\n",
       "      <td>18.642857</td>\n",
       "      <td>18.903570</td>\n",
       "      <td>18.400000</td>\n",
       "      <td>18.710714</td>\n",
       "      <td>15.959509</td>\n",
       "      <td>484156400.0</td>\n",
       "    </tr>\n",
       "    <tr>\n",
       "      <th>2013-01-08</th>\n",
       "      <td>18.900356</td>\n",
       "      <td>18.996071</td>\n",
       "      <td>18.616072</td>\n",
       "      <td>18.761070</td>\n",
       "      <td>16.002449</td>\n",
       "      <td>458707200.0</td>\n",
       "    </tr>\n",
       "  </tbody>\n",
       "</table>\n",
       "</div>"
      ],
      "text/plain": [
       "                        Open       High        Low      Close  Adj Close  \\\n",
       "Ticker Date                                                                \n",
       "AAPL   2013-01-02  19.779285  19.821428  19.343929  19.608213  16.725033   \n",
       "       2013-01-03  19.567142  19.631071  19.321428  19.360714  16.513929   \n",
       "       2013-01-04  19.177500  19.236786  18.779642  18.821428  16.053942   \n",
       "       2013-01-07  18.642857  18.903570  18.400000  18.710714  15.959509   \n",
       "       2013-01-08  18.900356  18.996071  18.616072  18.761070  16.002449   \n",
       "\n",
       "                        Volume  \n",
       "Ticker Date                     \n",
       "AAPL   2013-01-02  560518000.0  \n",
       "       2013-01-03  352965200.0  \n",
       "       2013-01-04  594333600.0  \n",
       "       2013-01-07  484156400.0  \n",
       "       2013-01-08  458707200.0  "
      ]
     },
     "execution_count": 15,
     "metadata": {},
     "output_type": "execute_result"
    }
   ],
   "source": [
    "all_data.head()"
   ]
  },
  {
   "cell_type": "code",
   "execution_count": 17,
   "metadata": {},
   "outputs": [
    {
     "data": {
      "text/html": [
       "<div>\n",
       "<style scoped>\n",
       "    .dataframe tbody tr th:only-of-type {\n",
       "        vertical-align: middle;\n",
       "    }\n",
       "\n",
       "    .dataframe tbody tr th {\n",
       "        vertical-align: top;\n",
       "    }\n",
       "\n",
       "    .dataframe thead th {\n",
       "        text-align: right;\n",
       "    }\n",
       "</style>\n",
       "<table border=\"1\" class=\"dataframe\">\n",
       "  <thead>\n",
       "    <tr style=\"text-align: right;\">\n",
       "      <th></th>\n",
       "      <th>Ticker</th>\n",
       "      <th>Date</th>\n",
       "      <th>Adj Close</th>\n",
       "    </tr>\n",
       "  </thead>\n",
       "  <tbody>\n",
       "    <tr>\n",
       "      <th>0</th>\n",
       "      <td>AAPL</td>\n",
       "      <td>2013-01-02</td>\n",
       "      <td>16.725033</td>\n",
       "    </tr>\n",
       "    <tr>\n",
       "      <th>1</th>\n",
       "      <td>AAPL</td>\n",
       "      <td>2013-01-03</td>\n",
       "      <td>16.513929</td>\n",
       "    </tr>\n",
       "    <tr>\n",
       "      <th>2</th>\n",
       "      <td>AAPL</td>\n",
       "      <td>2013-01-04</td>\n",
       "      <td>16.053942</td>\n",
       "    </tr>\n",
       "    <tr>\n",
       "      <th>3</th>\n",
       "      <td>AAPL</td>\n",
       "      <td>2013-01-07</td>\n",
       "      <td>15.959509</td>\n",
       "    </tr>\n",
       "    <tr>\n",
       "      <th>4</th>\n",
       "      <td>AAPL</td>\n",
       "      <td>2013-01-08</td>\n",
       "      <td>16.002449</td>\n",
       "    </tr>\n",
       "  </tbody>\n",
       "</table>\n",
       "</div>"
      ],
      "text/plain": [
       "  Ticker       Date  Adj Close\n",
       "0   AAPL 2013-01-02  16.725033\n",
       "1   AAPL 2013-01-03  16.513929\n",
       "2   AAPL 2013-01-04  16.053942\n",
       "3   AAPL 2013-01-07  15.959509\n",
       "4   AAPL 2013-01-08  16.002449"
      ]
     },
     "execution_count": 17,
     "metadata": {},
     "output_type": "execute_result"
    }
   ],
   "source": [
    "# Also only pulling the ticker, date and adj. close columns for our tickers.\n",
    "\n",
    "adj_close = all_data[[\"Adj Close\"]].reset_index()\n",
    "adj_close.head()"
   ]
  },
  {
   "cell_type": "code",
   "execution_count": 18,
   "metadata": {},
   "outputs": [
    {
     "data": {
      "text/html": [
       "<div>\n",
       "<style scoped>\n",
       "    .dataframe tbody tr th:only-of-type {\n",
       "        vertical-align: middle;\n",
       "    }\n",
       "\n",
       "    .dataframe tbody tr th {\n",
       "        vertical-align: top;\n",
       "    }\n",
       "\n",
       "    .dataframe thead th {\n",
       "        text-align: right;\n",
       "    }\n",
       "</style>\n",
       "<table border=\"1\" class=\"dataframe\">\n",
       "  <thead>\n",
       "    <tr style=\"text-align: right;\">\n",
       "      <th></th>\n",
       "      <th>Ticker</th>\n",
       "      <th>Date</th>\n",
       "      <th>Adj Close</th>\n",
       "    </tr>\n",
       "  </thead>\n",
       "  <tbody>\n",
       "    <tr>\n",
       "      <th>1258</th>\n",
       "      <td>AAPL</td>\n",
       "      <td>2017-12-29</td>\n",
       "      <td>39.901470</td>\n",
       "    </tr>\n",
       "    <tr>\n",
       "      <th>2563</th>\n",
       "      <td>JNJ</td>\n",
       "      <td>2017-12-29</td>\n",
       "      <td>117.916229</td>\n",
       "    </tr>\n",
       "    <tr>\n",
       "      <th>3868</th>\n",
       "      <td>MCD</td>\n",
       "      <td>2017-12-29</td>\n",
       "      <td>148.687073</td>\n",
       "    </tr>\n",
       "    <tr>\n",
       "      <th>5173</th>\n",
       "      <td>MTCH</td>\n",
       "      <td>2017-12-29</td>\n",
       "      <td>29.799627</td>\n",
       "    </tr>\n",
       "    <tr>\n",
       "      <th>6478</th>\n",
       "      <td>NFLX</td>\n",
       "      <td>2017-12-29</td>\n",
       "      <td>191.960007</td>\n",
       "    </tr>\n",
       "  </tbody>\n",
       "</table>\n",
       "</div>"
      ],
      "text/plain": [
       "     Ticker       Date   Adj Close\n",
       "1258   AAPL 2017-12-29   39.901470\n",
       "2563    JNJ 2017-12-29  117.916229\n",
       "3868    MCD 2017-12-29  148.687073\n",
       "5173   MTCH 2017-12-29   29.799627\n",
       "6478   NFLX 2017-12-29  191.960007"
      ]
     },
     "execution_count": 18,
     "metadata": {},
     "output_type": "execute_result"
    }
   ],
   "source": [
    "# Grabbing the ticker close from the end of last year\n",
    "adj_close_start = adj_close[adj_close[\"Date\"] == end_of_last_year]\n",
    "adj_close_start.head()"
   ]
  },
  {
   "cell_type": "code",
   "execution_count": 19,
   "metadata": {},
   "outputs": [
    {
     "data": {
      "text/html": [
       "<div>\n",
       "<style scoped>\n",
       "    .dataframe tbody tr th:only-of-type {\n",
       "        vertical-align: middle;\n",
       "    }\n",
       "\n",
       "    .dataframe tbody tr th {\n",
       "        vertical-align: top;\n",
       "    }\n",
       "\n",
       "    .dataframe thead th {\n",
       "        text-align: right;\n",
       "    }\n",
       "</style>\n",
       "<table border=\"1\" class=\"dataframe\">\n",
       "  <thead>\n",
       "    <tr style=\"text-align: right;\">\n",
       "      <th></th>\n",
       "      <th>Ticker</th>\n",
       "      <th>Date</th>\n",
       "      <th>Adj Close</th>\n",
       "    </tr>\n",
       "  </thead>\n",
       "  <tbody>\n",
       "  </tbody>\n",
       "</table>\n",
       "</div>"
      ],
      "text/plain": [
       "Empty DataFrame\n",
       "Columns: [Ticker, Date, Adj Close]\n",
       "Index: []"
      ]
     },
     "execution_count": 19,
     "metadata": {},
     "output_type": "execute_result"
    }
   ],
   "source": [
    "# Grab the latest stock close price\n",
    "\n",
    "adj_close_latest = adj_close[adj_close[\"Date\"] == stocks_end]\n",
    "adj_close_latest"
   ]
  },
  {
   "cell_type": "code",
   "execution_count": 20,
   "metadata": {},
   "outputs": [
    {
     "data": {
      "text/html": [
       "<div>\n",
       "<style scoped>\n",
       "    .dataframe tbody tr th:only-of-type {\n",
       "        vertical-align: middle;\n",
       "    }\n",
       "\n",
       "    .dataframe tbody tr th {\n",
       "        vertical-align: top;\n",
       "    }\n",
       "\n",
       "    .dataframe thead th {\n",
       "        text-align: right;\n",
       "    }\n",
       "</style>\n",
       "<table border=\"1\" class=\"dataframe\">\n",
       "  <thead>\n",
       "    <tr style=\"text-align: right;\">\n",
       "      <th></th>\n",
       "      <th>Date</th>\n",
       "      <th>Adj Close</th>\n",
       "    </tr>\n",
       "    <tr>\n",
       "      <th>Ticker</th>\n",
       "      <th></th>\n",
       "      <th></th>\n",
       "    </tr>\n",
       "  </thead>\n",
       "  <tbody>\n",
       "  </tbody>\n",
       "</table>\n",
       "</div>"
      ],
      "text/plain": [
       "Empty DataFrame\n",
       "Columns: [Date, Adj Close]\n",
       "Index: []"
      ]
     },
     "execution_count": 20,
     "metadata": {},
     "output_type": "execute_result"
    }
   ],
   "source": [
    "adj_close_latest.set_index(\"Ticker\", inplace=True)\n",
    "adj_close_latest.head()"
   ]
  },
  {
   "cell_type": "code",
   "execution_count": 21,
   "metadata": {},
   "outputs": [
    {
     "data": {
      "text/html": [
       "<div>\n",
       "<style scoped>\n",
       "    .dataframe tbody tr th:only-of-type {\n",
       "        vertical-align: middle;\n",
       "    }\n",
       "\n",
       "    .dataframe tbody tr th {\n",
       "        vertical-align: top;\n",
       "    }\n",
       "\n",
       "    .dataframe thead th {\n",
       "        text-align: right;\n",
       "    }\n",
       "</style>\n",
       "<table border=\"1\" class=\"dataframe\">\n",
       "  <thead>\n",
       "    <tr style=\"text-align: right;\">\n",
       "      <th></th>\n",
       "      <th>Acquisition Date</th>\n",
       "      <th>Quantity</th>\n",
       "      <th>Unit Cost</th>\n",
       "      <th>Cost Basis</th>\n",
       "      <th>Start of Year</th>\n",
       "    </tr>\n",
       "    <tr>\n",
       "      <th>Ticker</th>\n",
       "      <th></th>\n",
       "      <th></th>\n",
       "      <th></th>\n",
       "      <th></th>\n",
       "      <th></th>\n",
       "    </tr>\n",
       "  </thead>\n",
       "  <tbody>\n",
       "    <tr>\n",
       "      <th>AAPL</th>\n",
       "      <td>2013-02-07</td>\n",
       "      <td>125</td>\n",
       "      <td>65.40</td>\n",
       "      <td>8175.00</td>\n",
       "      <td>2017-12-29</td>\n",
       "    </tr>\n",
       "    <tr>\n",
       "      <th>JNJ</th>\n",
       "      <td>2014-02-27</td>\n",
       "      <td>100</td>\n",
       "      <td>81.90</td>\n",
       "      <td>8190.00</td>\n",
       "      <td>2017-12-29</td>\n",
       "    </tr>\n",
       "    <tr>\n",
       "      <th>MCD</th>\n",
       "      <td>2013-06-04</td>\n",
       "      <td>100</td>\n",
       "      <td>84.99</td>\n",
       "      <td>8499.00</td>\n",
       "      <td>2017-12-29</td>\n",
       "    </tr>\n",
       "    <tr>\n",
       "      <th>MTCH</th>\n",
       "      <td>2015-12-14</td>\n",
       "      <td>600</td>\n",
       "      <td>13.63</td>\n",
       "      <td>8178.00</td>\n",
       "      <td>2017-12-29</td>\n",
       "    </tr>\n",
       "    <tr>\n",
       "      <th>NFLX</th>\n",
       "      <td>2016-01-14</td>\n",
       "      <td>75</td>\n",
       "      <td>108.71</td>\n",
       "      <td>8153.25</td>\n",
       "      <td>2017-12-29</td>\n",
       "    </tr>\n",
       "  </tbody>\n",
       "</table>\n",
       "</div>"
      ],
      "text/plain": [
       "       Acquisition Date  Quantity  Unit Cost  Cost Basis Start of Year\n",
       "Ticker                                                                \n",
       "AAPL         2013-02-07       125      65.40     8175.00    2017-12-29\n",
       "JNJ          2014-02-27       100      81.90     8190.00    2017-12-29\n",
       "MCD          2013-06-04       100      84.99     8499.00    2017-12-29\n",
       "MTCH         2015-12-14       600      13.63     8178.00    2017-12-29\n",
       "NFLX         2016-01-14        75     108.71     8153.25    2017-12-29"
      ]
     },
     "execution_count": 21,
     "metadata": {},
     "output_type": "execute_result"
    }
   ],
   "source": [
    "portfolio_df.set_index([\"Ticker\"], inplace=True)\n",
    "\n",
    "portfolio_df.head()"
   ]
  },
  {
   "cell_type": "code",
   "execution_count": 22,
   "metadata": {},
   "outputs": [
    {
     "data": {
      "text/html": [
       "<div>\n",
       "<style scoped>\n",
       "    .dataframe tbody tr th:only-of-type {\n",
       "        vertical-align: middle;\n",
       "    }\n",
       "\n",
       "    .dataframe tbody tr th {\n",
       "        vertical-align: top;\n",
       "    }\n",
       "\n",
       "    .dataframe thead th {\n",
       "        text-align: right;\n",
       "    }\n",
       "</style>\n",
       "<table border=\"1\" class=\"dataframe\">\n",
       "  <thead>\n",
       "    <tr style=\"text-align: right;\">\n",
       "      <th></th>\n",
       "      <th>Acquisition Date</th>\n",
       "      <th>Quantity</th>\n",
       "      <th>Unit Cost</th>\n",
       "      <th>Cost Basis</th>\n",
       "      <th>Start of Year</th>\n",
       "      <th>Date</th>\n",
       "      <th>Adj Close</th>\n",
       "    </tr>\n",
       "    <tr>\n",
       "      <th>Ticker</th>\n",
       "      <th></th>\n",
       "      <th></th>\n",
       "      <th></th>\n",
       "      <th></th>\n",
       "      <th></th>\n",
       "      <th></th>\n",
       "      <th></th>\n",
       "    </tr>\n",
       "  </thead>\n",
       "  <tbody>\n",
       "  </tbody>\n",
       "</table>\n",
       "</div>"
      ],
      "text/plain": [
       "Empty DataFrame\n",
       "Columns: [Acquisition Date, Quantity, Unit Cost, Cost Basis, Start of Year, Date, Adj Close]\n",
       "Index: []"
      ]
     },
     "execution_count": 22,
     "metadata": {},
     "output_type": "execute_result"
    }
   ],
   "source": [
    "# Merge the portfolio dataframe with the adj close dataframe; they are being joined by their indexes.\n",
    "\n",
    "merged_portfolio = pd.merge(portfolio_df, adj_close_latest, left_index=True, right_index=True)\n",
    "merged_portfolio.head()"
   ]
  },
  {
   "cell_type": "code",
   "execution_count": 23,
   "metadata": {},
   "outputs": [
    {
     "data": {
      "text/html": [
       "<div>\n",
       "<style scoped>\n",
       "    .dataframe tbody tr th:only-of-type {\n",
       "        vertical-align: middle;\n",
       "    }\n",
       "\n",
       "    .dataframe tbody tr th {\n",
       "        vertical-align: top;\n",
       "    }\n",
       "\n",
       "    .dataframe thead th {\n",
       "        text-align: right;\n",
       "    }\n",
       "</style>\n",
       "<table border=\"1\" class=\"dataframe\">\n",
       "  <thead>\n",
       "    <tr style=\"text-align: right;\">\n",
       "      <th></th>\n",
       "      <th>Acquisition Date</th>\n",
       "      <th>Quantity</th>\n",
       "      <th>Unit Cost</th>\n",
       "      <th>Cost Basis</th>\n",
       "      <th>Start of Year</th>\n",
       "      <th>Date</th>\n",
       "      <th>Adj Close</th>\n",
       "      <th>ticker return</th>\n",
       "    </tr>\n",
       "    <tr>\n",
       "      <th>Ticker</th>\n",
       "      <th></th>\n",
       "      <th></th>\n",
       "      <th></th>\n",
       "      <th></th>\n",
       "      <th></th>\n",
       "      <th></th>\n",
       "      <th></th>\n",
       "      <th></th>\n",
       "    </tr>\n",
       "  </thead>\n",
       "  <tbody>\n",
       "  </tbody>\n",
       "</table>\n",
       "</div>"
      ],
      "text/plain": [
       "Empty DataFrame\n",
       "Columns: [Acquisition Date, Quantity, Unit Cost, Cost Basis, Start of Year, Date, Adj Close, ticker return]\n",
       "Index: []"
      ]
     },
     "execution_count": 23,
     "metadata": {},
     "output_type": "execute_result"
    }
   ],
   "source": [
    "# The below creates a new column which is the ticker return; takes the latest adjusted close for each position\n",
    "# and divides that by the initial share cost.\n",
    "\n",
    "merged_portfolio[\"ticker return\"] = merged_portfolio[\"Adj Close\"] / merged_portfolio[\"Unit Cost\"] - 1\n",
    "\n",
    "merged_portfolio"
   ]
  },
  {
   "cell_type": "code",
   "execution_count": 24,
   "metadata": {
    "collapsed": true
   },
   "outputs": [],
   "source": [
    "merged_portfolio.reset_index(inplace=True)"
   ]
  },
  {
   "cell_type": "code",
   "execution_count": 25,
   "metadata": {},
   "outputs": [
    {
     "data": {
      "text/html": [
       "<div>\n",
       "<style scoped>\n",
       "    .dataframe tbody tr th:only-of-type {\n",
       "        vertical-align: middle;\n",
       "    }\n",
       "\n",
       "    .dataframe tbody tr th {\n",
       "        vertical-align: top;\n",
       "    }\n",
       "\n",
       "    .dataframe thead th {\n",
       "        text-align: right;\n",
       "    }\n",
       "</style>\n",
       "<table border=\"1\" class=\"dataframe\">\n",
       "  <thead>\n",
       "    <tr style=\"text-align: right;\">\n",
       "      <th></th>\n",
       "      <th>Ticker</th>\n",
       "      <th>Acquisition Date</th>\n",
       "      <th>Quantity</th>\n",
       "      <th>Unit Cost</th>\n",
       "      <th>Cost Basis</th>\n",
       "      <th>Start of Year</th>\n",
       "      <th>Date_x</th>\n",
       "      <th>Adj Close_x</th>\n",
       "      <th>ticker return</th>\n",
       "      <th>Date_y</th>\n",
       "      <th>Adj Close_y</th>\n",
       "    </tr>\n",
       "  </thead>\n",
       "  <tbody>\n",
       "  </tbody>\n",
       "</table>\n",
       "</div>"
      ],
      "text/plain": [
       "Empty DataFrame\n",
       "Columns: [Ticker, Acquisition Date, Quantity, Unit Cost, Cost Basis, Start of Year, Date_x, Adj Close_x, ticker return, Date_y, Adj Close_y]\n",
       "Index: []"
      ]
     },
     "execution_count": 25,
     "metadata": {},
     "output_type": "execute_result"
    }
   ],
   "source": [
    "# Here we are merging the new dataframe with the sp500 adjusted closes since the sp start price based on\n",
    "# each ticker's acquisition date and sp500 close date.\n",
    "\n",
    "merged_portfolio_sp = pd.merge(merged_portfolio, sp_500_adj_close, left_on=\"Acquisition Date\", right_on=\"Date\")\n",
    "# .set_index('Ticker')\n",
    "\n",
    "merged_portfolio_sp.head()"
   ]
  },
  {
   "cell_type": "code",
   "execution_count": 26,
   "metadata": {},
   "outputs": [
    {
     "data": {
      "text/html": [
       "<div>\n",
       "<style scoped>\n",
       "    .dataframe tbody tr th:only-of-type {\n",
       "        vertical-align: middle;\n",
       "    }\n",
       "\n",
       "    .dataframe tbody tr th {\n",
       "        vertical-align: top;\n",
       "    }\n",
       "\n",
       "    .dataframe thead th {\n",
       "        text-align: right;\n",
       "    }\n",
       "</style>\n",
       "<table border=\"1\" class=\"dataframe\">\n",
       "  <thead>\n",
       "    <tr style=\"text-align: right;\">\n",
       "      <th></th>\n",
       "      <th>Ticker</th>\n",
       "      <th>Acquisition Date</th>\n",
       "      <th>Quantity</th>\n",
       "      <th>Unit Cost</th>\n",
       "      <th>Cost Basis</th>\n",
       "      <th>Start of Year</th>\n",
       "      <th>Latest Date</th>\n",
       "      <th>Ticker Adj Close</th>\n",
       "      <th>ticker return</th>\n",
       "      <th>SP 500 Initial Close</th>\n",
       "    </tr>\n",
       "  </thead>\n",
       "  <tbody>\n",
       "  </tbody>\n",
       "</table>\n",
       "</div>"
      ],
      "text/plain": [
       "Empty DataFrame\n",
       "Columns: [Ticker, Acquisition Date, Quantity, Unit Cost, Cost Basis, Start of Year, Latest Date, Ticker Adj Close, ticker return, SP 500 Initial Close]\n",
       "Index: []"
      ]
     },
     "execution_count": 26,
     "metadata": {},
     "output_type": "execute_result"
    }
   ],
   "source": [
    "# We will delete the additional date column which is created from this merge.\n",
    "# We then rename columns to Latest Date and then reflect Ticker Adj Close and SP 500 Initial Close.\n",
    "\n",
    "del merged_portfolio_sp[\"Date_y\"]\n",
    "\n",
    "merged_portfolio_sp.rename(columns={\"Date_x\": \"Latest Date\", \"Adj Close_x\": \"Ticker Adj Close\", \"Adj Close_y\": \"SP 500 Initial Close\"}, inplace=True)\n",
    "\n",
    "merged_portfolio_sp.head()"
   ]
  },
  {
   "cell_type": "code",
   "execution_count": 27,
   "metadata": {},
   "outputs": [
    {
     "data": {
      "text/html": [
       "<div>\n",
       "<style scoped>\n",
       "    .dataframe tbody tr th:only-of-type {\n",
       "        vertical-align: middle;\n",
       "    }\n",
       "\n",
       "    .dataframe tbody tr th {\n",
       "        vertical-align: top;\n",
       "    }\n",
       "\n",
       "    .dataframe thead th {\n",
       "        text-align: right;\n",
       "    }\n",
       "</style>\n",
       "<table border=\"1\" class=\"dataframe\">\n",
       "  <thead>\n",
       "    <tr style=\"text-align: right;\">\n",
       "      <th></th>\n",
       "      <th>Ticker</th>\n",
       "      <th>Acquisition Date</th>\n",
       "      <th>Quantity</th>\n",
       "      <th>Unit Cost</th>\n",
       "      <th>Cost Basis</th>\n",
       "      <th>Start of Year</th>\n",
       "      <th>Latest Date</th>\n",
       "      <th>Ticker Adj Close</th>\n",
       "      <th>ticker return</th>\n",
       "      <th>SP 500 Initial Close</th>\n",
       "      <th>Equiv SP Shares</th>\n",
       "    </tr>\n",
       "  </thead>\n",
       "  <tbody>\n",
       "  </tbody>\n",
       "</table>\n",
       "</div>"
      ],
      "text/plain": [
       "Empty DataFrame\n",
       "Columns: [Ticker, Acquisition Date, Quantity, Unit Cost, Cost Basis, Start of Year, Latest Date, Ticker Adj Close, ticker return, SP 500 Initial Close, Equiv SP Shares]\n",
       "Index: []"
      ]
     },
     "execution_count": 27,
     "metadata": {},
     "output_type": "execute_result"
    }
   ],
   "source": [
    "# This new column determines what SP 500 equivalent purchase would have been at purchase date of stock.\n",
    "merged_portfolio_sp[\"Equiv SP Shares\"] = merged_portfolio_sp[\"Cost Basis\"] / merged_portfolio_sp[\"SP 500 Initial Close\"]\n",
    "merged_portfolio_sp.head()"
   ]
  },
  {
   "cell_type": "code",
   "execution_count": 28,
   "metadata": {},
   "outputs": [
    {
     "data": {
      "text/html": [
       "<div>\n",
       "<style scoped>\n",
       "    .dataframe tbody tr th:only-of-type {\n",
       "        vertical-align: middle;\n",
       "    }\n",
       "\n",
       "    .dataframe tbody tr th {\n",
       "        vertical-align: top;\n",
       "    }\n",
       "\n",
       "    .dataframe thead th {\n",
       "        text-align: right;\n",
       "    }\n",
       "</style>\n",
       "<table border=\"1\" class=\"dataframe\">\n",
       "  <thead>\n",
       "    <tr style=\"text-align: right;\">\n",
       "      <th></th>\n",
       "      <th>Ticker</th>\n",
       "      <th>Acquisition Date</th>\n",
       "      <th>Quantity</th>\n",
       "      <th>Unit Cost</th>\n",
       "      <th>Cost Basis</th>\n",
       "      <th>Start of Year</th>\n",
       "      <th>Latest Date</th>\n",
       "      <th>Ticker Adj Close</th>\n",
       "      <th>ticker return</th>\n",
       "      <th>SP 500 Initial Close</th>\n",
       "      <th>Equiv SP Shares</th>\n",
       "      <th>Date</th>\n",
       "      <th>Adj Close</th>\n",
       "    </tr>\n",
       "  </thead>\n",
       "  <tbody>\n",
       "  </tbody>\n",
       "</table>\n",
       "</div>"
      ],
      "text/plain": [
       "Empty DataFrame\n",
       "Columns: [Ticker, Acquisition Date, Quantity, Unit Cost, Cost Basis, Start of Year, Latest Date, Ticker Adj Close, ticker return, SP 500 Initial Close, Equiv SP Shares, Date, Adj Close]\n",
       "Index: []"
      ]
     },
     "execution_count": 28,
     "metadata": {},
     "output_type": "execute_result"
    }
   ],
   "source": [
    "# We are joining the developing dataframe with the sp500 closes again, this time with the latest close for SP.\n",
    "merged_portfolio_sp_latest = pd.merge(merged_portfolio_sp, sp_500_adj_close, left_on=\"Latest Date\", right_on=\"Date\")\n",
    "\n",
    "merged_portfolio_sp_latest.head()"
   ]
  },
  {
   "cell_type": "code",
   "execution_count": 29,
   "metadata": {},
   "outputs": [
    {
     "data": {
      "text/html": [
       "<div>\n",
       "<style scoped>\n",
       "    .dataframe tbody tr th:only-of-type {\n",
       "        vertical-align: middle;\n",
       "    }\n",
       "\n",
       "    .dataframe tbody tr th {\n",
       "        vertical-align: top;\n",
       "    }\n",
       "\n",
       "    .dataframe thead th {\n",
       "        text-align: right;\n",
       "    }\n",
       "</style>\n",
       "<table border=\"1\" class=\"dataframe\">\n",
       "  <thead>\n",
       "    <tr style=\"text-align: right;\">\n",
       "      <th></th>\n",
       "      <th>Ticker</th>\n",
       "      <th>Acquisition Date</th>\n",
       "      <th>Quantity</th>\n",
       "      <th>Unit Cost</th>\n",
       "      <th>Cost Basis</th>\n",
       "      <th>Start of Year</th>\n",
       "      <th>Latest Date</th>\n",
       "      <th>Ticker Adj Close</th>\n",
       "      <th>ticker return</th>\n",
       "      <th>SP 500 Initial Close</th>\n",
       "      <th>Equiv SP Shares</th>\n",
       "      <th>SP 500 Latest Close</th>\n",
       "    </tr>\n",
       "  </thead>\n",
       "  <tbody>\n",
       "  </tbody>\n",
       "</table>\n",
       "</div>"
      ],
      "text/plain": [
       "Empty DataFrame\n",
       "Columns: [Ticker, Acquisition Date, Quantity, Unit Cost, Cost Basis, Start of Year, Latest Date, Ticker Adj Close, ticker return, SP 500 Initial Close, Equiv SP Shares, SP 500 Latest Close]\n",
       "Index: []"
      ]
     },
     "execution_count": 29,
     "metadata": {},
     "output_type": "execute_result"
    }
   ],
   "source": [
    "# Once again need to delete the new Date column added as it's redundant to Latest Date.\n",
    "# Modify Adj Close from the sp dataframe to distinguish it by calling it the SP 500 Latest Close.\n",
    "\n",
    "del merged_portfolio_sp_latest[\"Date\"]\n",
    "\n",
    "merged_portfolio_sp_latest.rename(columns={\"Adj Close\": \"SP 500 Latest Close\"}, inplace=True)\n",
    "\n",
    "merged_portfolio_sp_latest.head()"
   ]
  },
  {
   "cell_type": "code",
   "execution_count": 30,
   "metadata": {},
   "outputs": [
    {
     "data": {
      "text/html": [
       "<div>\n",
       "<style scoped>\n",
       "    .dataframe tbody tr th:only-of-type {\n",
       "        vertical-align: middle;\n",
       "    }\n",
       "\n",
       "    .dataframe tbody tr th {\n",
       "        vertical-align: top;\n",
       "    }\n",
       "\n",
       "    .dataframe thead th {\n",
       "        text-align: right;\n",
       "    }\n",
       "</style>\n",
       "<table border=\"1\" class=\"dataframe\">\n",
       "  <thead>\n",
       "    <tr style=\"text-align: right;\">\n",
       "      <th></th>\n",
       "      <th>Ticker</th>\n",
       "      <th>Acquisition Date</th>\n",
       "      <th>Quantity</th>\n",
       "      <th>Unit Cost</th>\n",
       "      <th>Cost Basis</th>\n",
       "      <th>Start of Year</th>\n",
       "      <th>Latest Date</th>\n",
       "      <th>Ticker Adj Close</th>\n",
       "      <th>ticker return</th>\n",
       "      <th>SP 500 Initial Close</th>\n",
       "      <th>Equiv SP Shares</th>\n",
       "      <th>SP 500 Latest Close</th>\n",
       "      <th>SP Return</th>\n",
       "      <th>Abs. Return Compare</th>\n",
       "      <th>Ticker Share Value</th>\n",
       "      <th>SP 500 Value</th>\n",
       "      <th>Abs Value Compare</th>\n",
       "      <th>Stock Gain / (Loss)</th>\n",
       "      <th>SP 500 Gain / (Loss)</th>\n",
       "    </tr>\n",
       "  </thead>\n",
       "  <tbody>\n",
       "  </tbody>\n",
       "</table>\n",
       "</div>"
      ],
      "text/plain": [
       "Empty DataFrame\n",
       "Columns: [Ticker, Acquisition Date, Quantity, Unit Cost, Cost Basis, Start of Year, Latest Date, Ticker Adj Close, ticker return, SP 500 Initial Close, Equiv SP Shares, SP 500 Latest Close, SP Return, Abs. Return Compare, Ticker Share Value, SP 500 Value, Abs Value Compare, Stock Gain / (Loss), SP 500 Gain / (Loss)]\n",
       "Index: []"
      ]
     },
     "execution_count": 30,
     "metadata": {},
     "output_type": "execute_result"
    }
   ],
   "source": [
    "# Percent return of SP from acquisition date of position through latest trading day.\n",
    "merged_portfolio_sp_latest[\"SP Return\"] = merged_portfolio_sp_latest[\"SP 500 Latest Close\"] / merged_portfolio_sp_latest[\"SP 500 Initial Close\"] - 1\n",
    "\n",
    "# This is a new column which takes the tickers return and subtracts the sp 500 equivalent range return.\n",
    "merged_portfolio_sp_latest[\"Abs. Return Compare\"] = merged_portfolio_sp_latest[\"ticker return\"] - merged_portfolio_sp_latest[\"SP Return\"]\n",
    "\n",
    "# This is a new column where we calculate the ticker's share value by multiplying the original quantity by the latest close.\n",
    "merged_portfolio_sp_latest[\"Ticker Share Value\"] = merged_portfolio_sp_latest[\"Quantity\"] * merged_portfolio_sp_latest[\"Ticker Adj Close\"]\n",
    "\n",
    "# We calculate the equivalent SP 500 Value if we take the original SP shares * the latest SP 500 share price.\n",
    "merged_portfolio_sp_latest[\"SP 500 Value\"] = merged_portfolio_sp_latest[\"Equiv SP Shares\"] * merged_portfolio_sp_latest[\"SP 500 Latest Close\"]\n",
    "\n",
    "# This is a new column where we take the current market value for the shares and subtract the SP 500 value.\n",
    "merged_portfolio_sp_latest[\"Abs Value Compare\"] = merged_portfolio_sp_latest[\"Ticker Share Value\"] - merged_portfolio_sp_latest[\"SP 500 Value\"]\n",
    "\n",
    "# This column calculates profit / loss for stock position.\n",
    "merged_portfolio_sp_latest[\"Stock Gain / (Loss)\"] = merged_portfolio_sp_latest[\"Ticker Share Value\"] - merged_portfolio_sp_latest[\"Cost Basis\"]\n",
    "\n",
    "# This column calculates profit / loss for SP 500.\n",
    "merged_portfolio_sp_latest[\"SP 500 Gain / (Loss)\"] = merged_portfolio_sp_latest[\"SP 500 Value\"] - merged_portfolio_sp_latest[\"Cost Basis\"]\n",
    "\n",
    "merged_portfolio_sp_latest.head()"
   ]
  },
  {
   "cell_type": "code",
   "execution_count": 31,
   "metadata": {},
   "outputs": [
    {
     "data": {
      "text/html": [
       "<div>\n",
       "<style scoped>\n",
       "    .dataframe tbody tr th:only-of-type {\n",
       "        vertical-align: middle;\n",
       "    }\n",
       "\n",
       "    .dataframe tbody tr th {\n",
       "        vertical-align: top;\n",
       "    }\n",
       "\n",
       "    .dataframe thead th {\n",
       "        text-align: right;\n",
       "    }\n",
       "</style>\n",
       "<table border=\"1\" class=\"dataframe\">\n",
       "  <thead>\n",
       "    <tr style=\"text-align: right;\">\n",
       "      <th></th>\n",
       "      <th>Ticker</th>\n",
       "      <th>Acquisition Date</th>\n",
       "      <th>Quantity</th>\n",
       "      <th>Unit Cost</th>\n",
       "      <th>Cost Basis</th>\n",
       "      <th>Start of Year</th>\n",
       "      <th>Latest Date</th>\n",
       "      <th>Ticker Adj Close</th>\n",
       "      <th>ticker return</th>\n",
       "      <th>SP 500 Initial Close</th>\n",
       "      <th>...</th>\n",
       "      <th>SP 500 Latest Close</th>\n",
       "      <th>SP Return</th>\n",
       "      <th>Abs. Return Compare</th>\n",
       "      <th>Ticker Share Value</th>\n",
       "      <th>SP 500 Value</th>\n",
       "      <th>Abs Value Compare</th>\n",
       "      <th>Stock Gain / (Loss)</th>\n",
       "      <th>SP 500 Gain / (Loss)</th>\n",
       "      <th>Date</th>\n",
       "      <th>Adj Close</th>\n",
       "    </tr>\n",
       "  </thead>\n",
       "  <tbody>\n",
       "  </tbody>\n",
       "</table>\n",
       "<p>0 rows × 21 columns</p>\n",
       "</div>"
      ],
      "text/plain": [
       "Empty DataFrame\n",
       "Columns: [Ticker, Acquisition Date, Quantity, Unit Cost, Cost Basis, Start of Year, Latest Date, Ticker Adj Close, ticker return, SP 500 Initial Close, Equiv SP Shares, SP 500 Latest Close, SP Return, Abs. Return Compare, Ticker Share Value, SP 500 Value, Abs Value Compare, Stock Gain / (Loss), SP 500 Gain / (Loss), Date, Adj Close]\n",
       "Index: []\n",
       "\n",
       "[0 rows x 21 columns]"
      ]
     },
     "execution_count": 31,
     "metadata": {},
     "output_type": "execute_result"
    }
   ],
   "source": [
    "# Merge the overall dataframe with the adj close start of year dataframe for YTD tracking of tickers.\n",
    "# Should not need to do the outer join;\n",
    "\n",
    "merged_portfolio_sp_latest_YTD = pd.merge(merged_portfolio_sp_latest, adj_close_start, on=\"Ticker\")\n",
    "# , how='outer'\n",
    "\n",
    "merged_portfolio_sp_latest_YTD.head()"
   ]
  },
  {
   "cell_type": "code",
   "execution_count": 32,
   "metadata": {},
   "outputs": [
    {
     "data": {
      "text/html": [
       "<div>\n",
       "<style scoped>\n",
       "    .dataframe tbody tr th:only-of-type {\n",
       "        vertical-align: middle;\n",
       "    }\n",
       "\n",
       "    .dataframe tbody tr th {\n",
       "        vertical-align: top;\n",
       "    }\n",
       "\n",
       "    .dataframe thead th {\n",
       "        text-align: right;\n",
       "    }\n",
       "</style>\n",
       "<table border=\"1\" class=\"dataframe\">\n",
       "  <thead>\n",
       "    <tr style=\"text-align: right;\">\n",
       "      <th></th>\n",
       "      <th>Ticker</th>\n",
       "      <th>Acquisition Date</th>\n",
       "      <th>Quantity</th>\n",
       "      <th>Unit Cost</th>\n",
       "      <th>Cost Basis</th>\n",
       "      <th>Start of Year</th>\n",
       "      <th>Latest Date</th>\n",
       "      <th>Ticker Adj Close</th>\n",
       "      <th>ticker return</th>\n",
       "      <th>SP 500 Initial Close</th>\n",
       "      <th>Equiv SP Shares</th>\n",
       "      <th>SP 500 Latest Close</th>\n",
       "      <th>SP Return</th>\n",
       "      <th>Abs. Return Compare</th>\n",
       "      <th>Ticker Share Value</th>\n",
       "      <th>SP 500 Value</th>\n",
       "      <th>Abs Value Compare</th>\n",
       "      <th>Stock Gain / (Loss)</th>\n",
       "      <th>SP 500 Gain / (Loss)</th>\n",
       "      <th>Ticker Start Year Close</th>\n",
       "    </tr>\n",
       "  </thead>\n",
       "  <tbody>\n",
       "  </tbody>\n",
       "</table>\n",
       "</div>"
      ],
      "text/plain": [
       "Empty DataFrame\n",
       "Columns: [Ticker, Acquisition Date, Quantity, Unit Cost, Cost Basis, Start of Year, Latest Date, Ticker Adj Close, ticker return, SP 500 Initial Close, Equiv SP Shares, SP 500 Latest Close, SP Return, Abs. Return Compare, Ticker Share Value, SP 500 Value, Abs Value Compare, Stock Gain / (Loss), SP 500 Gain / (Loss), Ticker Start Year Close]\n",
       "Index: []"
      ]
     },
     "execution_count": 32,
     "metadata": {},
     "output_type": "execute_result"
    }
   ],
   "source": [
    "# Deleting date again as it's an unnecessary column.  Explaining that new column is the Ticker Start of Year Close.\n",
    "\n",
    "del merged_portfolio_sp_latest_YTD[\"Date\"]\n",
    "\n",
    "merged_portfolio_sp_latest_YTD.rename(columns={\"Adj Close\": \"Ticker Start Year Close\"}, inplace=True)\n",
    "\n",
    "merged_portfolio_sp_latest_YTD.head()"
   ]
  },
  {
   "cell_type": "code",
   "execution_count": 33,
   "metadata": {},
   "outputs": [
    {
     "data": {
      "text/html": [
       "<div>\n",
       "<style scoped>\n",
       "    .dataframe tbody tr th:only-of-type {\n",
       "        vertical-align: middle;\n",
       "    }\n",
       "\n",
       "    .dataframe tbody tr th {\n",
       "        vertical-align: top;\n",
       "    }\n",
       "\n",
       "    .dataframe thead th {\n",
       "        text-align: right;\n",
       "    }\n",
       "</style>\n",
       "<table border=\"1\" class=\"dataframe\">\n",
       "  <thead>\n",
       "    <tr style=\"text-align: right;\">\n",
       "      <th></th>\n",
       "      <th>Ticker</th>\n",
       "      <th>Acquisition Date</th>\n",
       "      <th>Quantity</th>\n",
       "      <th>Unit Cost</th>\n",
       "      <th>Cost Basis</th>\n",
       "      <th>Start of Year</th>\n",
       "      <th>Latest Date</th>\n",
       "      <th>Ticker Adj Close</th>\n",
       "      <th>ticker return</th>\n",
       "      <th>SP 500 Initial Close</th>\n",
       "      <th>...</th>\n",
       "      <th>SP Return</th>\n",
       "      <th>Abs. Return Compare</th>\n",
       "      <th>Ticker Share Value</th>\n",
       "      <th>SP 500 Value</th>\n",
       "      <th>Abs Value Compare</th>\n",
       "      <th>Stock Gain / (Loss)</th>\n",
       "      <th>SP 500 Gain / (Loss)</th>\n",
       "      <th>Ticker Start Year Close</th>\n",
       "      <th>Date</th>\n",
       "      <th>Adj Close</th>\n",
       "    </tr>\n",
       "  </thead>\n",
       "  <tbody>\n",
       "  </tbody>\n",
       "</table>\n",
       "<p>0 rows × 22 columns</p>\n",
       "</div>"
      ],
      "text/plain": [
       "Empty DataFrame\n",
       "Columns: [Ticker, Acquisition Date, Quantity, Unit Cost, Cost Basis, Start of Year, Latest Date, Ticker Adj Close, ticker return, SP 500 Initial Close, Equiv SP Shares, SP 500 Latest Close, SP Return, Abs. Return Compare, Ticker Share Value, SP 500 Value, Abs Value Compare, Stock Gain / (Loss), SP 500 Gain / (Loss), Ticker Start Year Close, Date, Adj Close]\n",
       "Index: []\n",
       "\n",
       "[0 rows x 22 columns]"
      ]
     },
     "execution_count": 33,
     "metadata": {},
     "output_type": "execute_result"
    }
   ],
   "source": [
    "# Join the SP 500 start of year with current dataframe for SP 500 ytd comparisons to tickers.\n",
    "\n",
    "merged_portfolio_sp_latest_YTD_sp = pd.merge(merged_portfolio_sp_latest_YTD, sp_500_adj_close_start, left_on=\"Start of Year\", right_on=\"Date\")\n",
    "\n",
    "merged_portfolio_sp_latest_YTD_sp.head()"
   ]
  },
  {
   "cell_type": "code",
   "execution_count": 34,
   "metadata": {},
   "outputs": [
    {
     "data": {
      "text/html": [
       "<div>\n",
       "<style scoped>\n",
       "    .dataframe tbody tr th:only-of-type {\n",
       "        vertical-align: middle;\n",
       "    }\n",
       "\n",
       "    .dataframe tbody tr th {\n",
       "        vertical-align: top;\n",
       "    }\n",
       "\n",
       "    .dataframe thead th {\n",
       "        text-align: right;\n",
       "    }\n",
       "</style>\n",
       "<table border=\"1\" class=\"dataframe\">\n",
       "  <thead>\n",
       "    <tr style=\"text-align: right;\">\n",
       "      <th></th>\n",
       "      <th>Ticker</th>\n",
       "      <th>Acquisition Date</th>\n",
       "      <th>Quantity</th>\n",
       "      <th>Unit Cost</th>\n",
       "      <th>Cost Basis</th>\n",
       "      <th>Start of Year</th>\n",
       "      <th>Latest Date</th>\n",
       "      <th>Ticker Adj Close</th>\n",
       "      <th>ticker return</th>\n",
       "      <th>SP 500 Initial Close</th>\n",
       "      <th>...</th>\n",
       "      <th>Abs. Return Compare</th>\n",
       "      <th>Ticker Share Value</th>\n",
       "      <th>SP 500 Value</th>\n",
       "      <th>Abs Value Compare</th>\n",
       "      <th>Stock Gain / (Loss)</th>\n",
       "      <th>SP 500 Gain / (Loss)</th>\n",
       "      <th>Ticker Start Year Close</th>\n",
       "      <th>SP Start Year Close</th>\n",
       "      <th>Share YTD</th>\n",
       "      <th>SP 500 YTD</th>\n",
       "    </tr>\n",
       "  </thead>\n",
       "  <tbody>\n",
       "  </tbody>\n",
       "</table>\n",
       "<p>0 rows × 23 columns</p>\n",
       "</div>"
      ],
      "text/plain": [
       "Empty DataFrame\n",
       "Columns: [Ticker, Acquisition Date, Quantity, Unit Cost, Cost Basis, Start of Year, Latest Date, Ticker Adj Close, ticker return, SP 500 Initial Close, Equiv SP Shares, SP 500 Latest Close, SP Return, Abs. Return Compare, Ticker Share Value, SP 500 Value, Abs Value Compare, Stock Gain / (Loss), SP 500 Gain / (Loss), Ticker Start Year Close, SP Start Year Close, Share YTD, SP 500 YTD]\n",
       "Index: []\n",
       "\n",
       "[0 rows x 23 columns]"
      ]
     },
     "execution_count": 34,
     "metadata": {},
     "output_type": "execute_result"
    }
   ],
   "source": [
    "# Deleting another unneeded Date column.\n",
    "\n",
    "del merged_portfolio_sp_latest_YTD_sp[\"Date\"]\n",
    "\n",
    "# Renaming so that it's clear this column is SP 500 start of year close.\n",
    "merged_portfolio_sp_latest_YTD_sp.rename(columns={\"Adj Close\": \"SP Start Year Close\"}, inplace=True)\n",
    "\n",
    "# YTD return for portfolio position.\n",
    "merged_portfolio_sp_latest_YTD_sp[\"Share YTD\"] = merged_portfolio_sp_latest_YTD_sp[\"Ticker Adj Close\"] / merged_portfolio_sp_latest_YTD_sp[\"Ticker Start Year Close\"] - 1\n",
    "\n",
    "# YTD return for SP to run compares.\n",
    "merged_portfolio_sp_latest_YTD_sp[\"SP 500 YTD\"] = merged_portfolio_sp_latest_YTD_sp[\"SP 500 Latest Close\"] / merged_portfolio_sp_latest_YTD_sp[\"SP Start Year Close\"] - 1\n",
    "\n",
    "merged_portfolio_sp_latest_YTD_sp.head()"
   ]
  },
  {
   "cell_type": "code",
   "execution_count": 35,
   "metadata": {},
   "outputs": [
    {
     "data": {
      "text/html": [
       "<div>\n",
       "<style scoped>\n",
       "    .dataframe tbody tr th:only-of-type {\n",
       "        vertical-align: middle;\n",
       "    }\n",
       "\n",
       "    .dataframe tbody tr th {\n",
       "        vertical-align: top;\n",
       "    }\n",
       "\n",
       "    .dataframe thead th {\n",
       "        text-align: right;\n",
       "    }\n",
       "</style>\n",
       "<table border=\"1\" class=\"dataframe\">\n",
       "  <thead>\n",
       "    <tr style=\"text-align: right;\">\n",
       "      <th></th>\n",
       "      <th>Ticker</th>\n",
       "      <th>Acquisition Date</th>\n",
       "      <th>Quantity</th>\n",
       "      <th>Unit Cost</th>\n",
       "      <th>Cost Basis</th>\n",
       "      <th>Start of Year</th>\n",
       "      <th>Latest Date</th>\n",
       "      <th>Ticker Adj Close</th>\n",
       "      <th>ticker return</th>\n",
       "      <th>SP 500 Initial Close</th>\n",
       "      <th>...</th>\n",
       "      <th>Abs. Return Compare</th>\n",
       "      <th>Ticker Share Value</th>\n",
       "      <th>SP 500 Value</th>\n",
       "      <th>Abs Value Compare</th>\n",
       "      <th>Stock Gain / (Loss)</th>\n",
       "      <th>SP 500 Gain / (Loss)</th>\n",
       "      <th>Ticker Start Year Close</th>\n",
       "      <th>SP Start Year Close</th>\n",
       "      <th>Share YTD</th>\n",
       "      <th>SP 500 YTD</th>\n",
       "    </tr>\n",
       "  </thead>\n",
       "  <tbody>\n",
       "  </tbody>\n",
       "</table>\n",
       "<p>0 rows × 23 columns</p>\n",
       "</div>"
      ],
      "text/plain": [
       "Empty DataFrame\n",
       "Columns: [Ticker, Acquisition Date, Quantity, Unit Cost, Cost Basis, Start of Year, Latest Date, Ticker Adj Close, ticker return, SP 500 Initial Close, Equiv SP Shares, SP 500 Latest Close, SP Return, Abs. Return Compare, Ticker Share Value, SP 500 Value, Abs Value Compare, Stock Gain / (Loss), SP 500 Gain / (Loss), Ticker Start Year Close, SP Start Year Close, Share YTD, SP 500 YTD]\n",
       "Index: []\n",
       "\n",
       "[0 rows x 23 columns]"
      ]
     },
     "execution_count": 35,
     "metadata": {},
     "output_type": "execute_result"
    }
   ],
   "source": [
    "merged_portfolio_sp_latest_YTD_sp = merged_portfolio_sp_latest_YTD_sp.sort_values(by=\"Ticker\", ascending=True)\n",
    "merged_portfolio_sp_latest_YTD_sp"
   ]
  },
  {
   "cell_type": "code",
   "execution_count": 36,
   "metadata": {},
   "outputs": [
    {
     "data": {
      "text/html": [
       "<div>\n",
       "<style scoped>\n",
       "    .dataframe tbody tr th:only-of-type {\n",
       "        vertical-align: middle;\n",
       "    }\n",
       "\n",
       "    .dataframe tbody tr th {\n",
       "        vertical-align: top;\n",
       "    }\n",
       "\n",
       "    .dataframe thead th {\n",
       "        text-align: right;\n",
       "    }\n",
       "</style>\n",
       "<table border=\"1\" class=\"dataframe\">\n",
       "  <thead>\n",
       "    <tr style=\"text-align: right;\">\n",
       "      <th></th>\n",
       "      <th>Ticker</th>\n",
       "      <th>Acquisition Date</th>\n",
       "      <th>Quantity</th>\n",
       "      <th>Unit Cost</th>\n",
       "      <th>Cost Basis</th>\n",
       "      <th>Start of Year</th>\n",
       "      <th>Latest Date</th>\n",
       "      <th>Ticker Adj Close</th>\n",
       "      <th>ticker return</th>\n",
       "      <th>SP 500 Initial Close</th>\n",
       "      <th>...</th>\n",
       "      <th>Stock Gain / (Loss)</th>\n",
       "      <th>SP 500 Gain / (Loss)</th>\n",
       "      <th>Ticker Start Year Close</th>\n",
       "      <th>SP Start Year Close</th>\n",
       "      <th>Share YTD</th>\n",
       "      <th>SP 500 YTD</th>\n",
       "      <th>Cum Invst</th>\n",
       "      <th>Cum Ticker Returns</th>\n",
       "      <th>Cum SP Returns</th>\n",
       "      <th>Cum Ticker ROI Mult</th>\n",
       "    </tr>\n",
       "  </thead>\n",
       "  <tbody>\n",
       "  </tbody>\n",
       "</table>\n",
       "<p>0 rows × 27 columns</p>\n",
       "</div>"
      ],
      "text/plain": [
       "Empty DataFrame\n",
       "Columns: [Ticker, Acquisition Date, Quantity, Unit Cost, Cost Basis, Start of Year, Latest Date, Ticker Adj Close, ticker return, SP 500 Initial Close, Equiv SP Shares, SP 500 Latest Close, SP Return, Abs. Return Compare, Ticker Share Value, SP 500 Value, Abs Value Compare, Stock Gain / (Loss), SP 500 Gain / (Loss), Ticker Start Year Close, SP Start Year Close, Share YTD, SP 500 YTD, Cum Invst, Cum Ticker Returns, Cum SP Returns, Cum Ticker ROI Mult]\n",
       "Index: []\n",
       "\n",
       "[0 rows x 27 columns]"
      ]
     },
     "execution_count": 36,
     "metadata": {},
     "output_type": "execute_result"
    }
   ],
   "source": [
    "# Cumulative sum of original investment\n",
    "merged_portfolio_sp_latest_YTD_sp[\"Cum Invst\"] = merged_portfolio_sp_latest_YTD_sp[\"Cost Basis\"].cumsum()\n",
    "\n",
    "# Cumulative sum of Ticker Share Value (latest FMV based on initial quantity purchased).\n",
    "merged_portfolio_sp_latest_YTD_sp[\"Cum Ticker Returns\"] = merged_portfolio_sp_latest_YTD_sp[\"Ticker Share Value\"].cumsum()\n",
    "\n",
    "# Cumulative sum of SP Share Value (latest FMV driven off of initial SP equiv purchase).\n",
    "merged_portfolio_sp_latest_YTD_sp[\"Cum SP Returns\"] = merged_portfolio_sp_latest_YTD_sp[\"SP 500 Value\"].cumsum()\n",
    "\n",
    "# Cumulative CoC multiple return for stock investments\n",
    "merged_portfolio_sp_latest_YTD_sp[\"Cum Ticker ROI Mult\"] = merged_portfolio_sp_latest_YTD_sp[\"Cum Ticker Returns\"] / merged_portfolio_sp_latest_YTD_sp[\"Cum Invst\"]\n",
    "\n",
    "merged_portfolio_sp_latest_YTD_sp.head()"
   ]
  },
  {
   "cell_type": "markdown",
   "metadata": {},
   "source": [
    "## Assessing Where Positions are At versus Highest Close"
   ]
  },
  {
   "cell_type": "code",
   "execution_count": 37,
   "metadata": {},
   "outputs": [
    {
     "data": {
      "text/html": [
       "<div>\n",
       "<style scoped>\n",
       "    .dataframe tbody tr th:only-of-type {\n",
       "        vertical-align: middle;\n",
       "    }\n",
       "\n",
       "    .dataframe tbody tr th {\n",
       "        vertical-align: top;\n",
       "    }\n",
       "\n",
       "    .dataframe thead th {\n",
       "        text-align: right;\n",
       "    }\n",
       "</style>\n",
       "<table border=\"1\" class=\"dataframe\">\n",
       "  <thead>\n",
       "    <tr style=\"text-align: right;\">\n",
       "      <th></th>\n",
       "      <th>Ticker</th>\n",
       "      <th>Date</th>\n",
       "      <th>Adj Close</th>\n",
       "    </tr>\n",
       "  </thead>\n",
       "  <tbody>\n",
       "    <tr>\n",
       "      <th>0</th>\n",
       "      <td>AAPL</td>\n",
       "      <td>2013-01-02</td>\n",
       "      <td>16.725033</td>\n",
       "    </tr>\n",
       "    <tr>\n",
       "      <th>1</th>\n",
       "      <td>AAPL</td>\n",
       "      <td>2013-01-03</td>\n",
       "      <td>16.513929</td>\n",
       "    </tr>\n",
       "    <tr>\n",
       "      <th>2</th>\n",
       "      <td>AAPL</td>\n",
       "      <td>2013-01-04</td>\n",
       "      <td>16.053942</td>\n",
       "    </tr>\n",
       "    <tr>\n",
       "      <th>3</th>\n",
       "      <td>AAPL</td>\n",
       "      <td>2013-01-07</td>\n",
       "      <td>15.959509</td>\n",
       "    </tr>\n",
       "    <tr>\n",
       "      <th>4</th>\n",
       "      <td>AAPL</td>\n",
       "      <td>2013-01-08</td>\n",
       "      <td>16.002449</td>\n",
       "    </tr>\n",
       "  </tbody>\n",
       "</table>\n",
       "</div>"
      ],
      "text/plain": [
       "  Ticker       Date  Adj Close\n",
       "0   AAPL 2013-01-02  16.725033\n",
       "1   AAPL 2013-01-03  16.513929\n",
       "2   AAPL 2013-01-04  16.053942\n",
       "3   AAPL 2013-01-07  15.959509\n",
       "4   AAPL 2013-01-08  16.002449"
      ]
     },
     "execution_count": 37,
     "metadata": {},
     "output_type": "execute_result"
    }
   ],
   "source": [
    "# Referencing the adj_close dataframe from above\n",
    "\n",
    "adj_close.head()"
   ]
  },
  {
   "cell_type": "code",
   "execution_count": 38,
   "metadata": {},
   "outputs": [
    {
     "data": {
      "text/html": [
       "<div>\n",
       "<style scoped>\n",
       "    .dataframe tbody tr th:only-of-type {\n",
       "        vertical-align: middle;\n",
       "    }\n",
       "\n",
       "    .dataframe tbody tr th {\n",
       "        vertical-align: top;\n",
       "    }\n",
       "\n",
       "    .dataframe thead th {\n",
       "        text-align: right;\n",
       "    }\n",
       "</style>\n",
       "<table border=\"1\" class=\"dataframe\">\n",
       "  <thead>\n",
       "    <tr style=\"text-align: right;\">\n",
       "      <th></th>\n",
       "      <th>Acquisition Date</th>\n",
       "      <th>Quantity</th>\n",
       "      <th>Unit Cost</th>\n",
       "      <th>Cost Basis</th>\n",
       "      <th>Start of Year</th>\n",
       "    </tr>\n",
       "    <tr>\n",
       "      <th>Ticker</th>\n",
       "      <th></th>\n",
       "      <th></th>\n",
       "      <th></th>\n",
       "      <th></th>\n",
       "      <th></th>\n",
       "    </tr>\n",
       "  </thead>\n",
       "  <tbody>\n",
       "    <tr>\n",
       "      <th>AAPL</th>\n",
       "      <td>2013-02-07</td>\n",
       "      <td>125</td>\n",
       "      <td>65.40</td>\n",
       "      <td>8175.00</td>\n",
       "      <td>2017-12-29</td>\n",
       "    </tr>\n",
       "    <tr>\n",
       "      <th>JNJ</th>\n",
       "      <td>2014-02-27</td>\n",
       "      <td>100</td>\n",
       "      <td>81.90</td>\n",
       "      <td>8190.00</td>\n",
       "      <td>2017-12-29</td>\n",
       "    </tr>\n",
       "    <tr>\n",
       "      <th>MCD</th>\n",
       "      <td>2013-06-04</td>\n",
       "      <td>100</td>\n",
       "      <td>84.99</td>\n",
       "      <td>8499.00</td>\n",
       "      <td>2017-12-29</td>\n",
       "    </tr>\n",
       "    <tr>\n",
       "      <th>MTCH</th>\n",
       "      <td>2015-12-14</td>\n",
       "      <td>600</td>\n",
       "      <td>13.63</td>\n",
       "      <td>8178.00</td>\n",
       "      <td>2017-12-29</td>\n",
       "    </tr>\n",
       "    <tr>\n",
       "      <th>NFLX</th>\n",
       "      <td>2016-01-14</td>\n",
       "      <td>75</td>\n",
       "      <td>108.71</td>\n",
       "      <td>8153.25</td>\n",
       "      <td>2017-12-29</td>\n",
       "    </tr>\n",
       "  </tbody>\n",
       "</table>\n",
       "</div>"
      ],
      "text/plain": [
       "       Acquisition Date  Quantity  Unit Cost  Cost Basis Start of Year\n",
       "Ticker                                                                \n",
       "AAPL         2013-02-07       125      65.40     8175.00    2017-12-29\n",
       "JNJ          2014-02-27       100      81.90     8190.00    2017-12-29\n",
       "MCD          2013-06-04       100      84.99     8499.00    2017-12-29\n",
       "MTCH         2015-12-14       600      13.63     8178.00    2017-12-29\n",
       "NFLX         2016-01-14        75     108.71     8153.25    2017-12-29"
      ]
     },
     "execution_count": 38,
     "metadata": {},
     "output_type": "execute_result"
    }
   ],
   "source": [
    "portfolio_df.head()"
   ]
  },
  {
   "cell_type": "code",
   "execution_count": 39,
   "metadata": {},
   "outputs": [
    {
     "data": {
      "text/html": [
       "<div>\n",
       "<style scoped>\n",
       "    .dataframe tbody tr th:only-of-type {\n",
       "        vertical-align: middle;\n",
       "    }\n",
       "\n",
       "    .dataframe tbody tr th {\n",
       "        vertical-align: top;\n",
       "    }\n",
       "\n",
       "    .dataframe thead th {\n",
       "        text-align: right;\n",
       "    }\n",
       "</style>\n",
       "<table border=\"1\" class=\"dataframe\">\n",
       "  <thead>\n",
       "    <tr style=\"text-align: right;\">\n",
       "      <th></th>\n",
       "      <th>Ticker</th>\n",
       "      <th>Date</th>\n",
       "      <th>Adj Close</th>\n",
       "      <th>Acquisition Date</th>\n",
       "      <th>Quantity</th>\n",
       "      <th>Unit Cost</th>\n",
       "      <th>Cost Basis</th>\n",
       "      <th>Start of Year</th>\n",
       "    </tr>\n",
       "  </thead>\n",
       "  <tbody>\n",
       "    <tr>\n",
       "      <th>0</th>\n",
       "      <td>AAPL</td>\n",
       "      <td>2013-01-02</td>\n",
       "      <td>16.725033</td>\n",
       "      <td>2013-02-07</td>\n",
       "      <td>125</td>\n",
       "      <td>65.4</td>\n",
       "      <td>8175.0</td>\n",
       "      <td>2017-12-29</td>\n",
       "    </tr>\n",
       "    <tr>\n",
       "      <th>1</th>\n",
       "      <td>AAPL</td>\n",
       "      <td>2013-01-03</td>\n",
       "      <td>16.513929</td>\n",
       "      <td>2013-02-07</td>\n",
       "      <td>125</td>\n",
       "      <td>65.4</td>\n",
       "      <td>8175.0</td>\n",
       "      <td>2017-12-29</td>\n",
       "    </tr>\n",
       "    <tr>\n",
       "      <th>2</th>\n",
       "      <td>AAPL</td>\n",
       "      <td>2013-01-04</td>\n",
       "      <td>16.053942</td>\n",
       "      <td>2013-02-07</td>\n",
       "      <td>125</td>\n",
       "      <td>65.4</td>\n",
       "      <td>8175.0</td>\n",
       "      <td>2017-12-29</td>\n",
       "    </tr>\n",
       "    <tr>\n",
       "      <th>3</th>\n",
       "      <td>AAPL</td>\n",
       "      <td>2013-01-07</td>\n",
       "      <td>15.959509</td>\n",
       "      <td>2013-02-07</td>\n",
       "      <td>125</td>\n",
       "      <td>65.4</td>\n",
       "      <td>8175.0</td>\n",
       "      <td>2017-12-29</td>\n",
       "    </tr>\n",
       "    <tr>\n",
       "      <th>4</th>\n",
       "      <td>AAPL</td>\n",
       "      <td>2013-01-08</td>\n",
       "      <td>16.002449</td>\n",
       "      <td>2013-02-07</td>\n",
       "      <td>125</td>\n",
       "      <td>65.4</td>\n",
       "      <td>8175.0</td>\n",
       "      <td>2017-12-29</td>\n",
       "    </tr>\n",
       "  </tbody>\n",
       "</table>\n",
       "</div>"
      ],
      "text/plain": [
       "  Ticker       Date  Adj Close Acquisition Date  Quantity  Unit Cost  \\\n",
       "0   AAPL 2013-01-02  16.725033       2013-02-07       125       65.4   \n",
       "1   AAPL 2013-01-03  16.513929       2013-02-07       125       65.4   \n",
       "2   AAPL 2013-01-04  16.053942       2013-02-07       125       65.4   \n",
       "3   AAPL 2013-01-07  15.959509       2013-02-07       125       65.4   \n",
       "4   AAPL 2013-01-08  16.002449       2013-02-07       125       65.4   \n",
       "\n",
       "   Cost Basis Start of Year  \n",
       "0      8175.0    2017-12-29  \n",
       "1      8175.0    2017-12-29  \n",
       "2      8175.0    2017-12-29  \n",
       "3      8175.0    2017-12-29  \n",
       "4      8175.0    2017-12-29  "
      ]
     },
     "execution_count": 39,
     "metadata": {},
     "output_type": "execute_result"
    }
   ],
   "source": [
    "# Need to factor in that some positions were purchased much more recently than others.\n",
    "# Join adj_close dataframe with portfolio in order to have acquisition date.\n",
    "\n",
    "portfolio_df.reset_index(inplace=True)\n",
    "\n",
    "adj_close_acq_date = pd.merge(adj_close, portfolio_df, on=\"Ticker\")\n",
    "\n",
    "adj_close_acq_date.head()"
   ]
  },
  {
   "cell_type": "code",
   "execution_count": 40,
   "metadata": {
    "collapsed": true
   },
   "outputs": [],
   "source": [
    "# delete_columns = ['Quantity', 'Unit Cost', 'Cost Basis', 'Start of Year']\n",
    "\n",
    "del adj_close_acq_date[\"Quantity\"]\n",
    "del adj_close_acq_date[\"Unit Cost\"]\n",
    "del adj_close_acq_date[\"Cost Basis\"]\n",
    "del adj_close_acq_date[\"Start of Year\"]\n",
    "\n",
    "# Sort by these columns in this order in order to make it clearer where compare for each position should begin.\n",
    "adj_close_acq_date.sort_values(by=[\"Ticker\", \"Acquisition Date\", \"Date\"], ascending=[True, True, True], inplace=True)"
   ]
  },
  {
   "cell_type": "code",
   "execution_count": 41,
   "metadata": {},
   "outputs": [
    {
     "data": {
      "text/html": [
       "<div>\n",
       "<style scoped>\n",
       "    .dataframe tbody tr th:only-of-type {\n",
       "        vertical-align: middle;\n",
       "    }\n",
       "\n",
       "    .dataframe tbody tr th {\n",
       "        vertical-align: top;\n",
       "    }\n",
       "\n",
       "    .dataframe thead th {\n",
       "        text-align: right;\n",
       "    }\n",
       "</style>\n",
       "<table border=\"1\" class=\"dataframe\">\n",
       "  <thead>\n",
       "    <tr style=\"text-align: right;\">\n",
       "      <th></th>\n",
       "      <th>Ticker</th>\n",
       "      <th>Date</th>\n",
       "      <th>Adj Close</th>\n",
       "      <th>Acquisition Date</th>\n",
       "      <th>Date Delta</th>\n",
       "    </tr>\n",
       "  </thead>\n",
       "  <tbody>\n",
       "    <tr>\n",
       "      <th>0</th>\n",
       "      <td>AAPL</td>\n",
       "      <td>2013-01-02</td>\n",
       "      <td>16.725033</td>\n",
       "      <td>2013-02-07</td>\n",
       "      <td>-3110400000000000</td>\n",
       "    </tr>\n",
       "    <tr>\n",
       "      <th>1</th>\n",
       "      <td>AAPL</td>\n",
       "      <td>2013-01-03</td>\n",
       "      <td>16.513929</td>\n",
       "      <td>2013-02-07</td>\n",
       "      <td>-3024000000000000</td>\n",
       "    </tr>\n",
       "    <tr>\n",
       "      <th>2</th>\n",
       "      <td>AAPL</td>\n",
       "      <td>2013-01-04</td>\n",
       "      <td>16.053942</td>\n",
       "      <td>2013-02-07</td>\n",
       "      <td>-2937600000000000</td>\n",
       "    </tr>\n",
       "    <tr>\n",
       "      <th>3</th>\n",
       "      <td>AAPL</td>\n",
       "      <td>2013-01-07</td>\n",
       "      <td>15.959509</td>\n",
       "      <td>2013-02-07</td>\n",
       "      <td>-2678400000000000</td>\n",
       "    </tr>\n",
       "    <tr>\n",
       "      <th>4</th>\n",
       "      <td>AAPL</td>\n",
       "      <td>2013-01-08</td>\n",
       "      <td>16.002449</td>\n",
       "      <td>2013-02-07</td>\n",
       "      <td>-2592000000000000</td>\n",
       "    </tr>\n",
       "  </tbody>\n",
       "</table>\n",
       "</div>"
      ],
      "text/plain": [
       "  Ticker       Date  Adj Close Acquisition Date        Date Delta\n",
       "0   AAPL 2013-01-02  16.725033       2013-02-07 -3110400000000000\n",
       "1   AAPL 2013-01-03  16.513929       2013-02-07 -3024000000000000\n",
       "2   AAPL 2013-01-04  16.053942       2013-02-07 -2937600000000000\n",
       "3   AAPL 2013-01-07  15.959509       2013-02-07 -2678400000000000\n",
       "4   AAPL 2013-01-08  16.002449       2013-02-07 -2592000000000000"
      ]
     },
     "execution_count": 41,
     "metadata": {},
     "output_type": "execute_result"
    }
   ],
   "source": [
    "# Anything less than 0 means that the stock close was prior to acquisition.\n",
    "adj_close_acq_date[\"Date Delta\"] = adj_close_acq_date[\"Date\"] - adj_close_acq_date[\"Acquisition Date\"]\n",
    "\n",
    "adj_close_acq_date[\"Date Delta\"] = adj_close_acq_date[[\"Date Delta\"]].apply(pd.to_numeric)\n",
    "\n",
    "adj_close_acq_date.head()"
   ]
  },
  {
   "cell_type": "code",
   "execution_count": 42,
   "metadata": {},
   "outputs": [
    {
     "data": {
      "text/html": [
       "<div>\n",
       "<style scoped>\n",
       "    .dataframe tbody tr th:only-of-type {\n",
       "        vertical-align: middle;\n",
       "    }\n",
       "\n",
       "    .dataframe tbody tr th {\n",
       "        vertical-align: top;\n",
       "    }\n",
       "\n",
       "    .dataframe thead th {\n",
       "        text-align: right;\n",
       "    }\n",
       "</style>\n",
       "<table border=\"1\" class=\"dataframe\">\n",
       "  <thead>\n",
       "    <tr style=\"text-align: right;\">\n",
       "      <th></th>\n",
       "      <th>Ticker</th>\n",
       "      <th>Date</th>\n",
       "      <th>Adj Close</th>\n",
       "      <th>Acquisition Date</th>\n",
       "      <th>Date Delta</th>\n",
       "    </tr>\n",
       "  </thead>\n",
       "  <tbody>\n",
       "    <tr>\n",
       "      <th>25</th>\n",
       "      <td>AAPL</td>\n",
       "      <td>2013-02-07</td>\n",
       "      <td>14.346462</td>\n",
       "      <td>2013-02-07</td>\n",
       "      <td>0</td>\n",
       "    </tr>\n",
       "    <tr>\n",
       "      <th>26</th>\n",
       "      <td>AAPL</td>\n",
       "      <td>2013-02-08</td>\n",
       "      <td>14.553590</td>\n",
       "      <td>2013-02-07</td>\n",
       "      <td>86400000000000</td>\n",
       "    </tr>\n",
       "    <tr>\n",
       "      <th>27</th>\n",
       "      <td>AAPL</td>\n",
       "      <td>2013-02-11</td>\n",
       "      <td>14.705256</td>\n",
       "      <td>2013-02-07</td>\n",
       "      <td>345600000000000</td>\n",
       "    </tr>\n",
       "    <tr>\n",
       "      <th>28</th>\n",
       "      <td>AAPL</td>\n",
       "      <td>2013-02-12</td>\n",
       "      <td>14.336651</td>\n",
       "      <td>2013-02-07</td>\n",
       "      <td>432000000000000</td>\n",
       "    </tr>\n",
       "    <tr>\n",
       "      <th>29</th>\n",
       "      <td>AAPL</td>\n",
       "      <td>2013-02-13</td>\n",
       "      <td>14.309386</td>\n",
       "      <td>2013-02-07</td>\n",
       "      <td>518400000000000</td>\n",
       "    </tr>\n",
       "  </tbody>\n",
       "</table>\n",
       "</div>"
      ],
      "text/plain": [
       "   Ticker       Date  Adj Close Acquisition Date       Date Delta\n",
       "25   AAPL 2013-02-07  14.346462       2013-02-07                0\n",
       "26   AAPL 2013-02-08  14.553590       2013-02-07   86400000000000\n",
       "27   AAPL 2013-02-11  14.705256       2013-02-07  345600000000000\n",
       "28   AAPL 2013-02-12  14.336651       2013-02-07  432000000000000\n",
       "29   AAPL 2013-02-13  14.309386       2013-02-07  518400000000000"
      ]
     },
     "execution_count": 42,
     "metadata": {},
     "output_type": "execute_result"
    }
   ],
   "source": [
    "# Modified the dataframe being evaluated to look at highest close which occurred after Acquisition Date (aka, not prior to purchase).\n",
    "\n",
    "adj_close_acq_date_modified = adj_close_acq_date[adj_close_acq_date[\"Date Delta\"] >= 0]\n",
    "\n",
    "adj_close_acq_date_modified.head()"
   ]
  },
  {
   "cell_type": "code",
   "execution_count": 43,
   "metadata": {},
   "outputs": [
    {
     "name": "stderr",
     "output_type": "stream",
     "text": [
      "/tmp/ipykernel_1031/3678200190.py:3: FutureWarning:\n",
      "\n",
      "The provided callable <function max at 0x7f2e941d5360> is currently using DataFrameGroupBy.max. In a future version of pandas, the provided callable will be used directly. To keep current behavior pass the string \"max\" instead.\n",
      "\n"
     ]
    },
    {
     "data": {
      "text/html": [
       "<div>\n",
       "<style scoped>\n",
       "    .dataframe tbody tr th:only-of-type {\n",
       "        vertical-align: middle;\n",
       "    }\n",
       "\n",
       "    .dataframe tbody tr th {\n",
       "        vertical-align: top;\n",
       "    }\n",
       "\n",
       "    .dataframe thead th {\n",
       "        text-align: right;\n",
       "    }\n",
       "</style>\n",
       "<table border=\"1\" class=\"dataframe\">\n",
       "  <thead>\n",
       "    <tr style=\"text-align: right;\">\n",
       "      <th></th>\n",
       "      <th>Ticker</th>\n",
       "      <th>Acquisition Date</th>\n",
       "      <th>Adj Close</th>\n",
       "    </tr>\n",
       "  </thead>\n",
       "  <tbody>\n",
       "    <tr>\n",
       "      <th>0</th>\n",
       "      <td>AAPL</td>\n",
       "      <td>2013-02-07</td>\n",
       "      <td>42.370029</td>\n",
       "    </tr>\n",
       "    <tr>\n",
       "      <th>1</th>\n",
       "      <td>JNJ</td>\n",
       "      <td>2014-02-27</td>\n",
       "      <td>125.022278</td>\n",
       "    </tr>\n",
       "    <tr>\n",
       "      <th>2</th>\n",
       "      <td>MCD</td>\n",
       "      <td>2013-06-04</td>\n",
       "      <td>154.077499</td>\n",
       "    </tr>\n",
       "    <tr>\n",
       "      <th>3</th>\n",
       "      <td>MTCH</td>\n",
       "      <td>2015-12-14</td>\n",
       "      <td>42.220104</td>\n",
       "    </tr>\n",
       "    <tr>\n",
       "      <th>4</th>\n",
       "      <td>NFLX</td>\n",
       "      <td>2016-01-14</td>\n",
       "      <td>325.220001</td>\n",
       "    </tr>\n",
       "    <tr>\n",
       "      <th>5</th>\n",
       "      <td>WMT</td>\n",
       "      <td>2013-08-14</td>\n",
       "      <td>32.600822</td>\n",
       "    </tr>\n",
       "  </tbody>\n",
       "</table>\n",
       "</div>"
      ],
      "text/plain": [
       "  Ticker Acquisition Date   Adj Close\n",
       "0   AAPL       2013-02-07   42.370029\n",
       "1    JNJ       2014-02-27  125.022278\n",
       "2    MCD       2013-06-04  154.077499\n",
       "3   MTCH       2015-12-14   42.220104\n",
       "4   NFLX       2016-01-14  325.220001\n",
       "5    WMT       2013-08-14   32.600822"
      ]
     },
     "execution_count": 43,
     "metadata": {},
     "output_type": "execute_result"
    }
   ],
   "source": [
    "# This pivot table will index on the Ticker and Acquisition Date, and find the max adjusted close.\n",
    "\n",
    "adj_close_pivot = adj_close_acq_date_modified.pivot_table(index=[\"Ticker\", \"Acquisition Date\"], values=\"Adj Close\", aggfunc=np.max)\n",
    "\n",
    "adj_close_pivot.reset_index(inplace=True)\n",
    "\n",
    "adj_close_pivot"
   ]
  },
  {
   "cell_type": "code",
   "execution_count": 44,
   "metadata": {},
   "outputs": [
    {
     "data": {
      "text/html": [
       "<div>\n",
       "<style scoped>\n",
       "    .dataframe tbody tr th:only-of-type {\n",
       "        vertical-align: middle;\n",
       "    }\n",
       "\n",
       "    .dataframe tbody tr th {\n",
       "        vertical-align: top;\n",
       "    }\n",
       "\n",
       "    .dataframe thead th {\n",
       "        text-align: right;\n",
       "    }\n",
       "</style>\n",
       "<table border=\"1\" class=\"dataframe\">\n",
       "  <thead>\n",
       "    <tr style=\"text-align: right;\">\n",
       "      <th></th>\n",
       "      <th>Ticker</th>\n",
       "      <th>Acquisition Date</th>\n",
       "      <th>Adj Close</th>\n",
       "      <th>Date</th>\n",
       "    </tr>\n",
       "  </thead>\n",
       "  <tbody>\n",
       "    <tr>\n",
       "      <th>0</th>\n",
       "      <td>AAPL</td>\n",
       "      <td>2013-02-07</td>\n",
       "      <td>42.370029</td>\n",
       "      <td>2018-02-26</td>\n",
       "    </tr>\n",
       "    <tr>\n",
       "      <th>1</th>\n",
       "      <td>JNJ</td>\n",
       "      <td>2014-02-27</td>\n",
       "      <td>125.022278</td>\n",
       "      <td>2018-01-22</td>\n",
       "    </tr>\n",
       "    <tr>\n",
       "      <th>2</th>\n",
       "      <td>MCD</td>\n",
       "      <td>2013-06-04</td>\n",
       "      <td>154.077499</td>\n",
       "      <td>2018-01-26</td>\n",
       "    </tr>\n",
       "    <tr>\n",
       "      <th>3</th>\n",
       "      <td>MTCH</td>\n",
       "      <td>2015-12-14</td>\n",
       "      <td>42.220104</td>\n",
       "      <td>2018-03-08</td>\n",
       "    </tr>\n",
       "    <tr>\n",
       "      <th>4</th>\n",
       "      <td>NFLX</td>\n",
       "      <td>2016-01-14</td>\n",
       "      <td>325.220001</td>\n",
       "      <td>2018-03-06</td>\n",
       "    </tr>\n",
       "  </tbody>\n",
       "</table>\n",
       "</div>"
      ],
      "text/plain": [
       "  Ticker Acquisition Date   Adj Close       Date\n",
       "0   AAPL       2013-02-07   42.370029 2018-02-26\n",
       "1    JNJ       2014-02-27  125.022278 2018-01-22\n",
       "2    MCD       2013-06-04  154.077499 2018-01-26\n",
       "3   MTCH       2015-12-14   42.220104 2018-03-08\n",
       "4   NFLX       2016-01-14  325.220001 2018-03-06"
      ]
     },
     "execution_count": 44,
     "metadata": {},
     "output_type": "execute_result"
    }
   ],
   "source": [
    "# Merge the adj close pivot table with the adj_close table in order to grab the date of the Adj Close High (good to know).\n",
    "\n",
    "adj_close_pivot_merged = pd.merge(adj_close_pivot, adj_close, on=[\"Ticker\", \"Adj Close\"])\n",
    "\n",
    "adj_close_pivot_merged.head()"
   ]
  },
  {
   "cell_type": "code",
   "execution_count": 45,
   "metadata": {},
   "outputs": [
    {
     "data": {
      "text/html": [
       "<div>\n",
       "<style scoped>\n",
       "    .dataframe tbody tr th:only-of-type {\n",
       "        vertical-align: middle;\n",
       "    }\n",
       "\n",
       "    .dataframe tbody tr th {\n",
       "        vertical-align: top;\n",
       "    }\n",
       "\n",
       "    .dataframe thead th {\n",
       "        text-align: right;\n",
       "    }\n",
       "</style>\n",
       "<table border=\"1\" class=\"dataframe\">\n",
       "  <thead>\n",
       "    <tr style=\"text-align: right;\">\n",
       "      <th></th>\n",
       "      <th>Ticker</th>\n",
       "      <th>Acquisition Date</th>\n",
       "      <th>Quantity</th>\n",
       "      <th>Unit Cost</th>\n",
       "      <th>Cost Basis</th>\n",
       "      <th>Start of Year</th>\n",
       "      <th>Latest Date</th>\n",
       "      <th>Ticker Adj Close</th>\n",
       "      <th>ticker return</th>\n",
       "      <th>SP 500 Initial Close</th>\n",
       "      <th>...</th>\n",
       "      <th>SP Start Year Close</th>\n",
       "      <th>Share YTD</th>\n",
       "      <th>SP 500 YTD</th>\n",
       "      <th>Cum Invst</th>\n",
       "      <th>Cum Ticker Returns</th>\n",
       "      <th>Cum SP Returns</th>\n",
       "      <th>Cum Ticker ROI Mult</th>\n",
       "      <th>Closing High Adj Close</th>\n",
       "      <th>Closing High Adj Close Date</th>\n",
       "      <th>Pct off High</th>\n",
       "    </tr>\n",
       "  </thead>\n",
       "  <tbody>\n",
       "  </tbody>\n",
       "</table>\n",
       "<p>0 rows × 30 columns</p>\n",
       "</div>"
      ],
      "text/plain": [
       "Empty DataFrame\n",
       "Columns: [Ticker, Acquisition Date, Quantity, Unit Cost, Cost Basis, Start of Year, Latest Date, Ticker Adj Close, ticker return, SP 500 Initial Close, Equiv SP Shares, SP 500 Latest Close, SP Return, Abs. Return Compare, Ticker Share Value, SP 500 Value, Abs Value Compare, Stock Gain / (Loss), SP 500 Gain / (Loss), Ticker Start Year Close, SP Start Year Close, Share YTD, SP 500 YTD, Cum Invst, Cum Ticker Returns, Cum SP Returns, Cum Ticker ROI Mult, Closing High Adj Close, Closing High Adj Close Date, Pct off High]\n",
       "Index: []\n",
       "\n",
       "[0 rows x 30 columns]"
      ]
     },
     "execution_count": 45,
     "metadata": {},
     "output_type": "execute_result"
    }
   ],
   "source": [
    "# Merge the Adj Close pivot table with the master dataframe to have the closing high since you have owned the stock.\n",
    "\n",
    "merged_portfolio_sp_latest_YTD_sp_closing_high = pd.merge(merged_portfolio_sp_latest_YTD_sp, adj_close_pivot_merged, on=[\"Ticker\", \"Acquisition Date\"])\n",
    "\n",
    "# Renaming so that it's clear that the new columns are two year closing high and two year closing high date.\n",
    "merged_portfolio_sp_latest_YTD_sp_closing_high.rename(columns={\"Adj Close\": \"Closing High Adj Close\", \"Date\": \"Closing High Adj Close Date\"}, inplace=True)\n",
    "\n",
    "merged_portfolio_sp_latest_YTD_sp_closing_high[\"Pct off High\"] = (\n",
    "    merged_portfolio_sp_latest_YTD_sp_closing_high[\"Ticker Adj Close\"] / merged_portfolio_sp_latest_YTD_sp_closing_high[\"Closing High Adj Close\"] - 1\n",
    ")\n",
    "\n",
    "merged_portfolio_sp_latest_YTD_sp_closing_high"
   ]
  },
  {
   "cell_type": "code",
   "execution_count": 46,
   "metadata": {
    "collapsed": true
   },
   "outputs": [],
   "source": [
    "# Not needed for this blog post -- this is if you have multiple positions for the same ticker with different acquisition dates.\n",
    "# merged_portfolio_sp_latest_YTD_sp_closing_high['Counts'] = merged_portfolio_sp_latest_YTD_sp_closing_high.index\n",
    "\n",
    "# merged_portfolio_sp_latest_YTD_sp_closing_high['Ticker #'] = merged_portfolio_sp_latest_YTD_sp_closing_high['Ticker'].map(str) + ' ' + merged_portfolio_sp_latest_YTD_sp_closing_high['Counts'].map(str)\n",
    "\n",
    "# merged_portfolio_sp_latest_YTD_sp_closing_high.head()"
   ]
  },
  {
   "cell_type": "markdown",
   "metadata": {},
   "source": [
    "## YTD and Trailing Stop Charts"
   ]
  },
  {
   "cell_type": "code",
   "execution_count": 47,
   "metadata": {},
   "outputs": [
    {
     "ename": "ValueError",
     "evalue": "Mime type rendering requires nbformat>=4.2.0 but it is not installed",
     "output_type": "error",
     "traceback": [
      "\u001b[0;31m---------------------------------------------------------------------------\u001b[0m",
      "\u001b[0;31mValueError\u001b[0m                                Traceback (most recent call last)",
      "Cell \u001b[0;32mIn[47], line 12\u001b[0m\n\u001b[1;32m      9\u001b[0m layout \u001b[38;5;241m=\u001b[39m go\u001b[38;5;241m.\u001b[39mLayout(title\u001b[38;5;241m=\u001b[39m\u001b[38;5;124m\"\u001b[39m\u001b[38;5;124mYTD Return vs S&P 500 YTD\u001b[39m\u001b[38;5;124m\"\u001b[39m, barmode\u001b[38;5;241m=\u001b[39m\u001b[38;5;124m\"\u001b[39m\u001b[38;5;124mgroup\u001b[39m\u001b[38;5;124m\"\u001b[39m, yaxis\u001b[38;5;241m=\u001b[39m\u001b[38;5;28mdict\u001b[39m(title\u001b[38;5;241m=\u001b[39m\u001b[38;5;124m\"\u001b[39m\u001b[38;5;124mReturns\u001b[39m\u001b[38;5;124m\"\u001b[39m, tickformat\u001b[38;5;241m=\u001b[39m\u001b[38;5;124m\"\u001b[39m\u001b[38;5;124m.2\u001b[39m\u001b[38;5;124m%\u001b[39m\u001b[38;5;124m\"\u001b[39m), xaxis\u001b[38;5;241m=\u001b[39m\u001b[38;5;28mdict\u001b[39m(title\u001b[38;5;241m=\u001b[39m\u001b[38;5;124m\"\u001b[39m\u001b[38;5;124mTicker\u001b[39m\u001b[38;5;124m\"\u001b[39m), legend\u001b[38;5;241m=\u001b[39m\u001b[38;5;28mdict\u001b[39m(x\u001b[38;5;241m=\u001b[39m\u001b[38;5;241m0.8\u001b[39m, y\u001b[38;5;241m=\u001b[39m\u001b[38;5;241m1\u001b[39m))\n\u001b[1;32m     11\u001b[0m fig \u001b[38;5;241m=\u001b[39m go\u001b[38;5;241m.\u001b[39mFigure(data\u001b[38;5;241m=\u001b[39mdata, layout\u001b[38;5;241m=\u001b[39mlayout)\n\u001b[0;32m---> 12\u001b[0m \u001b[43miplot\u001b[49m\u001b[43m(\u001b[49m\u001b[43mfig\u001b[49m\u001b[43m)\u001b[49m\n",
      "File \u001b[0;32m~/algorithmic_trading/.venv/lib/python3.10/site-packages/plotly/offline/offline.py:387\u001b[0m, in \u001b[0;36miplot\u001b[0;34m(figure_or_data, show_link, link_text, validate, image, filename, image_width, image_height, config, auto_play, animation_opts)\u001b[0m\n\u001b[1;32m    382\u001b[0m post_script \u001b[38;5;241m=\u001b[39m build_save_image_post_script(\n\u001b[1;32m    383\u001b[0m     image, filename, image_height, image_width, \u001b[38;5;124m\"\u001b[39m\u001b[38;5;124miplot\u001b[39m\u001b[38;5;124m\"\u001b[39m\n\u001b[1;32m    384\u001b[0m )\n\u001b[1;32m    386\u001b[0m \u001b[38;5;66;03m# Show figure\u001b[39;00m\n\u001b[0;32m--> 387\u001b[0m \u001b[43mpio\u001b[49m\u001b[38;5;241;43m.\u001b[39;49m\u001b[43mshow\u001b[49m\u001b[43m(\u001b[49m\n\u001b[1;32m    388\u001b[0m \u001b[43m    \u001b[49m\u001b[43mfigure\u001b[49m\u001b[43m,\u001b[49m\n\u001b[1;32m    389\u001b[0m \u001b[43m    \u001b[49m\u001b[43mvalidate\u001b[49m\u001b[38;5;241;43m=\u001b[39;49m\u001b[43mvalidate\u001b[49m\u001b[43m,\u001b[49m\n\u001b[1;32m    390\u001b[0m \u001b[43m    \u001b[49m\u001b[43mconfig\u001b[49m\u001b[38;5;241;43m=\u001b[39;49m\u001b[43mconfig\u001b[49m\u001b[43m,\u001b[49m\n\u001b[1;32m    391\u001b[0m \u001b[43m    \u001b[49m\u001b[43mauto_play\u001b[49m\u001b[38;5;241;43m=\u001b[39;49m\u001b[43mauto_play\u001b[49m\u001b[43m,\u001b[49m\n\u001b[1;32m    392\u001b[0m \u001b[43m    \u001b[49m\u001b[43mpost_script\u001b[49m\u001b[38;5;241;43m=\u001b[39;49m\u001b[43mpost_script\u001b[49m\u001b[43m,\u001b[49m\n\u001b[1;32m    393\u001b[0m \u001b[43m    \u001b[49m\u001b[43manimation_opts\u001b[49m\u001b[38;5;241;43m=\u001b[39;49m\u001b[43manimation_opts\u001b[49m\u001b[43m,\u001b[49m\n\u001b[1;32m    394\u001b[0m \u001b[43m\u001b[49m\u001b[43m)\u001b[49m\n",
      "File \u001b[0;32m~/algorithmic_trading/.venv/lib/python3.10/site-packages/plotly/io/_renderers.py:394\u001b[0m, in \u001b[0;36mshow\u001b[0;34m(fig, renderer, validate, **kwargs)\u001b[0m\n\u001b[1;32m    389\u001b[0m         \u001b[38;5;28;01mraise\u001b[39;00m \u001b[38;5;167;01mValueError\u001b[39;00m(\n\u001b[1;32m    390\u001b[0m             \u001b[38;5;124m\"\u001b[39m\u001b[38;5;124mMime type rendering requires ipython but it is not installed\u001b[39m\u001b[38;5;124m\"\u001b[39m\n\u001b[1;32m    391\u001b[0m         )\n\u001b[1;32m    393\u001b[0m     \u001b[38;5;28;01mif\u001b[39;00m \u001b[38;5;129;01mnot\u001b[39;00m nbformat \u001b[38;5;129;01mor\u001b[39;00m Version(nbformat\u001b[38;5;241m.\u001b[39m__version__) \u001b[38;5;241m<\u001b[39m Version(\u001b[38;5;124m\"\u001b[39m\u001b[38;5;124m4.2.0\u001b[39m\u001b[38;5;124m\"\u001b[39m):\n\u001b[0;32m--> 394\u001b[0m         \u001b[38;5;28;01mraise\u001b[39;00m \u001b[38;5;167;01mValueError\u001b[39;00m(\n\u001b[1;32m    395\u001b[0m             \u001b[38;5;124m\"\u001b[39m\u001b[38;5;124mMime type rendering requires nbformat>=4.2.0 but it is not installed\u001b[39m\u001b[38;5;124m\"\u001b[39m\n\u001b[1;32m    396\u001b[0m         )\n\u001b[1;32m    398\u001b[0m     ipython_display\u001b[38;5;241m.\u001b[39mdisplay(bundle, raw\u001b[38;5;241m=\u001b[39m\u001b[38;5;28;01mTrue\u001b[39;00m)\n\u001b[1;32m    400\u001b[0m \u001b[38;5;66;03m# external renderers\u001b[39;00m\n",
      "\u001b[0;31mValueError\u001b[0m: Mime type rendering requires nbformat>=4.2.0 but it is not installed"
     ]
    }
   ],
   "source": [
    "# Ploty is an outstanding resource for interactive charts.\n",
    "\n",
    "trace1 = go.Bar(x=merged_portfolio_sp_latest_YTD_sp[\"Ticker\"][0:10], y=merged_portfolio_sp_latest_YTD_sp[\"Share YTD\"][0:10], name=\"Ticker YTD\")\n",
    "\n",
    "trace2 = go.Scatter(x=merged_portfolio_sp_latest_YTD_sp[\"Ticker\"][0:10], y=merged_portfolio_sp_latest_YTD_sp[\"SP 500 YTD\"][0:10], name=\"SP500 YTD\")\n",
    "\n",
    "data = [trace1, trace2]\n",
    "\n",
    "layout = go.Layout(title=\"YTD Return vs S&P 500 YTD\", barmode=\"group\", yaxis=dict(title=\"Returns\", tickformat=\".2%\"), xaxis=dict(title=\"Ticker\"), legend=dict(x=0.8, y=1))\n",
    "\n",
    "fig = go.Figure(data=data, layout=layout)\n",
    "iplot(fig)"
   ]
  },
  {
   "cell_type": "code",
   "execution_count": null,
   "metadata": {},
   "outputs": [
    {
     "data": {
      "application/vnd.plotly.v1+json": {
       "data": [
        {
         "name": "Pct off High",
         "type": "bar",
         "x": [
          "AAPL",
          "FB",
          "JNJ",
          "MCD",
          "MTCH",
          "NFLX",
          "TWTR",
          "WMT"
         ],
         "y": [
          0,
          -0.040706407182275695,
          -0.09101673668453181,
          -0.11283492991068922,
          0,
          0,
          -0.3313788789744445,
          -0.18531316343097093
         ]
        }
       ],
       "layout": {
        "barmode": "group",
        "legend": {
         "x": 0.8,
         "y": 1
        },
        "title": "Adj Close % off of High",
        "xaxis": {
         "title": "Ticker"
        },
        "yaxis": {
         "tickformat": ".2%",
         "title": "% Below Adj Close High"
        }
       }
      },
      "text/html": [
       "<div id=\"4e7e93ef-5a27-451e-9134-c689a12057bf\" style=\"height: 525px; width: 100%;\" class=\"plotly-graph-div\"></div><script type=\"text/javascript\">require([\"plotly\"], function(Plotly) { window.PLOTLYENV=window.PLOTLYENV || {};window.PLOTLYENV.BASE_URL=\"https://plot.ly\";Plotly.newPlot(\"4e7e93ef-5a27-451e-9134-c689a12057bf\", [{\"y\": [0.0, -0.040706407182275695, -0.09101673668453181, -0.11283492991068922, 0.0, 0.0, -0.3313788789744445, -0.18531316343097093], \"x\": [\"AAPL\", \"FB\", \"JNJ\", \"MCD\", \"MTCH\", \"NFLX\", \"TWTR\", \"WMT\"], \"type\": \"bar\", \"name\": \"Pct off High\"}], {\"barmode\": \"group\", \"title\": \"Adj Close % off of High\", \"legend\": {\"y\": 1, \"x\": 0.8}, \"xaxis\": {\"title\": \"Ticker\"}, \"yaxis\": {\"tickformat\": \".2%\", \"title\": \"% Below Adj Close High\"}}, {\"linkText\": \"Export to plot.ly\", \"showLink\": true})});</script>"
      ],
      "text/vnd.plotly.v1+html": [
       "<div id=\"4e7e93ef-5a27-451e-9134-c689a12057bf\" style=\"height: 525px; width: 100%;\" class=\"plotly-graph-div\"></div><script type=\"text/javascript\">require([\"plotly\"], function(Plotly) { window.PLOTLYENV=window.PLOTLYENV || {};window.PLOTLYENV.BASE_URL=\"https://plot.ly\";Plotly.newPlot(\"4e7e93ef-5a27-451e-9134-c689a12057bf\", [{\"y\": [0.0, -0.040706407182275695, -0.09101673668453181, -0.11283492991068922, 0.0, 0.0, -0.3313788789744445, -0.18531316343097093], \"x\": [\"AAPL\", \"FB\", \"JNJ\", \"MCD\", \"MTCH\", \"NFLX\", \"TWTR\", \"WMT\"], \"type\": \"bar\", \"name\": \"Pct off High\"}], {\"barmode\": \"group\", \"title\": \"Adj Close % off of High\", \"legend\": {\"y\": 1, \"x\": 0.8}, \"xaxis\": {\"title\": \"Ticker\"}, \"yaxis\": {\"tickformat\": \".2%\", \"title\": \"% Below Adj Close High\"}}, {\"linkText\": \"Export to plot.ly\", \"showLink\": true})});</script>"
      ]
     },
     "metadata": {},
     "output_type": "display_data"
    }
   ],
   "source": [
    "# Current Share Price versus Closing High Since Purchased\n",
    "\n",
    "trace1 = go.Bar(x=merged_portfolio_sp_latest_YTD_sp_closing_high[\"Ticker\"][0:10], y=merged_portfolio_sp_latest_YTD_sp_closing_high[\"Pct off High\"][0:10], name=\"Pct off High\")\n",
    "\n",
    "data = [trace1]\n",
    "\n",
    "layout = go.Layout(\n",
    "    title=\"Adj Close % off of High\", barmode=\"group\", yaxis=dict(title=\"% Below Adj Close High\", tickformat=\".2%\"), xaxis=dict(title=\"Ticker\"), legend=dict(x=0.8, y=1)\n",
    ")\n",
    "\n",
    "fig = go.Figure(data=data, layout=layout)\n",
    "iplot(fig)"
   ]
  },
  {
   "cell_type": "markdown",
   "metadata": {},
   "source": [
    "## Total Return Comparison Charts"
   ]
  },
  {
   "cell_type": "code",
   "execution_count": null,
   "metadata": {},
   "outputs": [
    {
     "data": {
      "application/vnd.plotly.v1+json": {
       "data": [
        {
         "name": "Ticker Total Return",
         "type": "bar",
         "x": [
          "AAPL",
          "FB",
          "JNJ",
          "MCD",
          "MTCH",
          "NFLX",
          "TWTR",
          "WMT"
         ],
         "y": [
          1.751987706422018,
          2.4739309077269316,
          0.6336996703296702,
          0.8501000705965409,
          2.2861336023477623,
          2.0488455707846565,
          -0.028312314458493804,
          0.29897512445095176
         ]
        },
        {
         "name": "SP500 Total Return",
         "type": "scatter",
         "x": [
          "AAPL",
          "FB",
          "JNJ",
          "MCD",
          "MTCH",
          "NFLX",
          "TWTR",
          "WMT"
         ],
         "y": [
          0.8461564210095824,
          0.56961570463874,
          0.5027692590651942,
          0.7081060571169622,
          0.3781665871943918,
          0.44994906823578873,
          0.37909418517462523,
          0.6533680888099958
         ]
        }
       ],
       "layout": {
        "barmode": "group",
        "legend": {
         "x": 0.8,
         "y": 1
        },
        "title": "Total Return vs S&P 500",
        "xaxis": {
         "tickformat": ".2%",
         "title": "Ticker"
        },
        "yaxis": {
         "tickformat": ".2%",
         "title": "Returns"
        }
       }
      },
      "text/html": [
       "<div id=\"8d8f6df9-f82d-4700-9ed5-f41dd9b98452\" style=\"height: 525px; width: 100%;\" class=\"plotly-graph-div\"></div><script type=\"text/javascript\">require([\"plotly\"], function(Plotly) { window.PLOTLYENV=window.PLOTLYENV || {};window.PLOTLYENV.BASE_URL=\"https://plot.ly\";Plotly.newPlot(\"8d8f6df9-f82d-4700-9ed5-f41dd9b98452\", [{\"y\": [1.751987706422018, 2.4739309077269316, 0.6336996703296702, 0.8501000705965409, 2.2861336023477623, 2.0488455707846565, -0.028312314458493804, 0.29897512445095176], \"x\": [\"AAPL\", \"FB\", \"JNJ\", \"MCD\", \"MTCH\", \"NFLX\", \"TWTR\", \"WMT\"], \"type\": \"bar\", \"name\": \"Ticker Total Return\"}, {\"y\": [0.8461564210095824, 0.56961570463874, 0.5027692590651942, 0.7081060571169622, 0.3781665871943918, 0.44994906823578873, 0.37909418517462523, 0.6533680888099958], \"x\": [\"AAPL\", \"FB\", \"JNJ\", \"MCD\", \"MTCH\", \"NFLX\", \"TWTR\", \"WMT\"], \"type\": \"scatter\", \"name\": \"SP500 Total Return\"}], {\"barmode\": \"group\", \"title\": \"Total Return vs S&P 500\", \"legend\": {\"y\": 1, \"x\": 0.8}, \"xaxis\": {\"tickformat\": \".2%\", \"title\": \"Ticker\"}, \"yaxis\": {\"tickformat\": \".2%\", \"title\": \"Returns\"}}, {\"linkText\": \"Export to plot.ly\", \"showLink\": true})});</script>"
      ],
      "text/vnd.plotly.v1+html": [
       "<div id=\"8d8f6df9-f82d-4700-9ed5-f41dd9b98452\" style=\"height: 525px; width: 100%;\" class=\"plotly-graph-div\"></div><script type=\"text/javascript\">require([\"plotly\"], function(Plotly) { window.PLOTLYENV=window.PLOTLYENV || {};window.PLOTLYENV.BASE_URL=\"https://plot.ly\";Plotly.newPlot(\"8d8f6df9-f82d-4700-9ed5-f41dd9b98452\", [{\"y\": [1.751987706422018, 2.4739309077269316, 0.6336996703296702, 0.8501000705965409, 2.2861336023477623, 2.0488455707846565, -0.028312314458493804, 0.29897512445095176], \"x\": [\"AAPL\", \"FB\", \"JNJ\", \"MCD\", \"MTCH\", \"NFLX\", \"TWTR\", \"WMT\"], \"type\": \"bar\", \"name\": \"Ticker Total Return\"}, {\"y\": [0.8461564210095824, 0.56961570463874, 0.5027692590651942, 0.7081060571169622, 0.3781665871943918, 0.44994906823578873, 0.37909418517462523, 0.6533680888099958], \"x\": [\"AAPL\", \"FB\", \"JNJ\", \"MCD\", \"MTCH\", \"NFLX\", \"TWTR\", \"WMT\"], \"type\": \"scatter\", \"name\": \"SP500 Total Return\"}], {\"barmode\": \"group\", \"title\": \"Total Return vs S&P 500\", \"legend\": {\"y\": 1, \"x\": 0.8}, \"xaxis\": {\"tickformat\": \".2%\", \"title\": \"Ticker\"}, \"yaxis\": {\"tickformat\": \".2%\", \"title\": \"Returns\"}}, {\"linkText\": \"Export to plot.ly\", \"showLink\": true})});</script>"
      ]
     },
     "metadata": {},
     "output_type": "display_data"
    }
   ],
   "source": [
    "trace1 = go.Bar(\n",
    "    x=merged_portfolio_sp_latest_YTD_sp_closing_high[\"Ticker\"][0:10], y=merged_portfolio_sp_latest_YTD_sp_closing_high[\"ticker return\"][0:10], name=\"Ticker Total Return\"\n",
    ")\n",
    "\n",
    "trace2 = go.Scatter(\n",
    "    x=merged_portfolio_sp_latest_YTD_sp_closing_high[\"Ticker\"][0:10], y=merged_portfolio_sp_latest_YTD_sp_closing_high[\"SP Return\"][0:10], name=\"SP500 Total Return\"\n",
    ")\n",
    "\n",
    "data = [trace1, trace2]\n",
    "\n",
    "layout = go.Layout(\n",
    "    title=\"Total Return vs S&P 500\", barmode=\"group\", yaxis=dict(title=\"Returns\", tickformat=\".2%\"), xaxis=dict(title=\"Ticker\", tickformat=\".2%\"), legend=dict(x=0.8, y=1)\n",
    ")\n",
    "\n",
    "fig = go.Figure(data=data, layout=layout)\n",
    "iplot(fig)"
   ]
  },
  {
   "cell_type": "markdown",
   "metadata": {
    "collapsed": true
   },
   "source": [
    "## Cumulative Returns Over Time"
   ]
  },
  {
   "cell_type": "code",
   "execution_count": null,
   "metadata": {},
   "outputs": [
    {
     "data": {
      "application/vnd.plotly.v1+json": {
       "data": [
        {
         "name": "Ticker Total Return ($)",
         "type": "bar",
         "x": [
          "AAPL",
          "FB",
          "JNJ",
          "MCD",
          "MTCH",
          "NFLX",
          "TWTR",
          "WMT"
         ],
         "y": [
          14322.499500000002,
          19786.4994,
          5190.000299999999,
          7225.0005,
          18696.000600000003,
          16704.75015,
          -231.75045000000136,
          2552.5001249999987
         ]
        },
        {
         "name": "SP 500 Total Return ($)",
         "type": "bar",
         "x": [
          "AAPL",
          "FB",
          "JNJ",
          "MCD",
          "MTCH",
          "NFLX",
          "TWTR",
          "WMT"
         ],
         "y": [
          6917.3287417533365,
          4555.786405700643,
          4117.680231743942,
          6018.193379437062,
          3092.6463500757372,
          3668.5472405934443,
          3103.075452746897,
          5578.130058215338
         ]
        },
        {
         "name": "Ticker Total Return %",
         "type": "scatter",
         "x": [
          "AAPL",
          "FB",
          "JNJ",
          "MCD",
          "MTCH",
          "NFLX",
          "TWTR",
          "WMT"
         ],
         "y": [
          1.751987706422018,
          2.4739309077269316,
          0.6336996703296702,
          0.8501000705965409,
          2.2861336023477623,
          2.0488455707846565,
          -0.028312314458493804,
          0.29897512445095176
         ],
         "yaxis": "y2"
        }
       ],
       "layout": {
        "barmode": "group",
        "legend": {
         "x": 0.75,
         "y": 1
        },
        "title": "Gain / (Loss) Total Return vs S&P 500",
        "xaxis": {
         "title": "Ticker"
        },
        "yaxis": {
         "title": "Gain / (Loss) ($)"
        },
        "yaxis2": {
         "overlaying": "y",
         "side": "right",
         "tickformat": ".2%",
         "title": "Ticker Return"
        }
       }
      },
      "text/html": [
       "<div id=\"53942214-c05d-475f-8190-4b90a7bd9dd7\" style=\"height: 525px; width: 100%;\" class=\"plotly-graph-div\"></div><script type=\"text/javascript\">require([\"plotly\"], function(Plotly) { window.PLOTLYENV=window.PLOTLYENV || {};window.PLOTLYENV.BASE_URL=\"https://plot.ly\";Plotly.newPlot(\"53942214-c05d-475f-8190-4b90a7bd9dd7\", [{\"y\": [14322.499500000002, 19786.4994, 5190.000299999999, 7225.0005, 18696.000600000003, 16704.75015, -231.75045000000136, 2552.5001249999987], \"x\": [\"AAPL\", \"FB\", \"JNJ\", \"MCD\", \"MTCH\", \"NFLX\", \"TWTR\", \"WMT\"], \"type\": \"bar\", \"name\": \"Ticker Total Return ($)\"}, {\"y\": [6917.3287417533365, 4555.786405700643, 4117.680231743942, 6018.193379437062, 3092.6463500757372, 3668.5472405934443, 3103.075452746897, 5578.130058215338], \"x\": [\"AAPL\", \"FB\", \"JNJ\", \"MCD\", \"MTCH\", \"NFLX\", \"TWTR\", \"WMT\"], \"type\": \"bar\", \"name\": \"SP 500 Total Return ($)\"}, {\"y\": [1.751987706422018, 2.4739309077269316, 0.6336996703296702, 0.8501000705965409, 2.2861336023477623, 2.0488455707846565, -0.028312314458493804, 0.29897512445095176], \"x\": [\"AAPL\", \"FB\", \"JNJ\", \"MCD\", \"MTCH\", \"NFLX\", \"TWTR\", \"WMT\"], \"type\": \"scatter\", \"name\": \"Ticker Total Return %\", \"yaxis\": \"y2\"}], {\"title\": \"Gain / (Loss) Total Return vs S&P 500\", \"yaxis\": {\"title\": \"Gain / (Loss) ($)\"}, \"barmode\": \"group\", \"yaxis2\": {\"overlaying\": \"y\", \"tickformat\": \".2%\", \"side\": \"right\", \"title\": \"Ticker Return\"}, \"xaxis\": {\"title\": \"Ticker\"}, \"legend\": {\"y\": 1, \"x\": 0.75}}, {\"linkText\": \"Export to plot.ly\", \"showLink\": true})});</script>"
      ],
      "text/vnd.plotly.v1+html": [
       "<div id=\"53942214-c05d-475f-8190-4b90a7bd9dd7\" style=\"height: 525px; width: 100%;\" class=\"plotly-graph-div\"></div><script type=\"text/javascript\">require([\"plotly\"], function(Plotly) { window.PLOTLYENV=window.PLOTLYENV || {};window.PLOTLYENV.BASE_URL=\"https://plot.ly\";Plotly.newPlot(\"53942214-c05d-475f-8190-4b90a7bd9dd7\", [{\"y\": [14322.499500000002, 19786.4994, 5190.000299999999, 7225.0005, 18696.000600000003, 16704.75015, -231.75045000000136, 2552.5001249999987], \"x\": [\"AAPL\", \"FB\", \"JNJ\", \"MCD\", \"MTCH\", \"NFLX\", \"TWTR\", \"WMT\"], \"type\": \"bar\", \"name\": \"Ticker Total Return ($)\"}, {\"y\": [6917.3287417533365, 4555.786405700643, 4117.680231743942, 6018.193379437062, 3092.6463500757372, 3668.5472405934443, 3103.075452746897, 5578.130058215338], \"x\": [\"AAPL\", \"FB\", \"JNJ\", \"MCD\", \"MTCH\", \"NFLX\", \"TWTR\", \"WMT\"], \"type\": \"bar\", \"name\": \"SP 500 Total Return ($)\"}, {\"y\": [1.751987706422018, 2.4739309077269316, 0.6336996703296702, 0.8501000705965409, 2.2861336023477623, 2.0488455707846565, -0.028312314458493804, 0.29897512445095176], \"x\": [\"AAPL\", \"FB\", \"JNJ\", \"MCD\", \"MTCH\", \"NFLX\", \"TWTR\", \"WMT\"], \"type\": \"scatter\", \"name\": \"Ticker Total Return %\", \"yaxis\": \"y2\"}], {\"title\": \"Gain / (Loss) Total Return vs S&P 500\", \"yaxis\": {\"title\": \"Gain / (Loss) ($)\"}, \"barmode\": \"group\", \"yaxis2\": {\"overlaying\": \"y\", \"tickformat\": \".2%\", \"side\": \"right\", \"title\": \"Ticker Return\"}, \"xaxis\": {\"title\": \"Ticker\"}, \"legend\": {\"y\": 1, \"x\": 0.75}}, {\"linkText\": \"Export to plot.ly\", \"showLink\": true})});</script>"
      ]
     },
     "metadata": {},
     "output_type": "display_data"
    }
   ],
   "source": [
    "trace1 = go.Bar(\n",
    "    x=merged_portfolio_sp_latest_YTD_sp_closing_high[\"Ticker\"][0:10], y=merged_portfolio_sp_latest_YTD_sp_closing_high[\"Stock Gain / (Loss)\"][0:10], name=\"Ticker Total Return ($)\"\n",
    ")\n",
    "\n",
    "trace2 = go.Bar(\n",
    "    x=merged_portfolio_sp_latest_YTD_sp_closing_high[\"Ticker\"][0:10], y=merged_portfolio_sp_latest_YTD_sp_closing_high[\"SP 500 Gain / (Loss)\"][0:10], name=\"SP 500 Total Return ($)\"\n",
    ")\n",
    "\n",
    "trace3 = go.Scatter(\n",
    "    x=merged_portfolio_sp_latest_YTD_sp_closing_high[\"Ticker\"][0:10],\n",
    "    y=merged_portfolio_sp_latest_YTD_sp_closing_high[\"ticker return\"][0:10],\n",
    "    name=\"Ticker Total Return %\",\n",
    "    yaxis=\"y2\",\n",
    ")\n",
    "\n",
    "data = [trace1, trace2, trace3]\n",
    "\n",
    "layout = go.Layout(\n",
    "    title=\"Gain / (Loss) Total Return vs S&P 500\",\n",
    "    barmode=\"group\",\n",
    "    yaxis=dict(title=\"Gain / (Loss) ($)\"),\n",
    "    yaxis2=dict(title=\"Ticker Return\", overlaying=\"y\", side=\"right\", tickformat=\".2%\"),\n",
    "    xaxis=dict(title=\"Ticker\"),\n",
    "    legend=dict(x=0.75, y=1),\n",
    ")\n",
    "\n",
    "fig = go.Figure(data=data, layout=layout)\n",
    "iplot(fig)"
   ]
  },
  {
   "cell_type": "code",
   "execution_count": null,
   "metadata": {},
   "outputs": [
    {
     "data": {
      "application/vnd.plotly.v1+json": {
       "data": [
        {
         "name": "Cum Invst",
         "type": "bar",
         "x": [
          "AAPL",
          "FB",
          "JNJ",
          "MCD",
          "MTCH",
          "NFLX",
          "TWTR",
          "WMT"
         ],
         "y": [
          8175.000000000001,
          16173,
          24363,
          32862,
          41040,
          49193.25,
          57378.75,
          65916.25
         ]
        },
        {
         "name": "Cum SP500 Returns",
         "type": "bar",
         "x": [
          "AAPL",
          "FB",
          "JNJ",
          "MCD",
          "MTCH",
          "NFLX",
          "TWTR",
          "WMT"
         ],
         "y": [
          15092.328741753337,
          27646.11514745398,
          39953.79537919792,
          54470.98875863499,
          65741.63510871073,
          77563.43234930417,
          88852.00780205107,
          102967.6378602664
         ]
        },
        {
         "name": "Cum Ticker Returns",
         "type": "bar",
         "x": [
          "AAPL",
          "FB",
          "JNJ",
          "MCD",
          "MTCH",
          "NFLX",
          "TWTR",
          "WMT"
         ],
         "y": [
          22497.4995,
          50281.998900000006,
          63661.999200000006,
          79385.9997,
          106260.0003,
          131118.00045,
          139071.75,
          150161.750125
         ]
        },
        {
         "name": "Cum ROI Mult",
         "type": "scatter",
         "x": [
          "AAPL",
          "FB",
          "JNJ",
          "MCD",
          "MTCH",
          "NFLX",
          "TWTR",
          "WMT"
         ],
         "y": [
          2.7519877064220184,
          3.109008773882397,
          2.6130607560645243,
          2.415738533868906,
          2.589181293859649,
          2.6653656843164457,
          2.4237500816940067,
          2.2780687633929415
         ],
         "yaxis": "y2"
        }
       ],
       "layout": {
        "barmode": "group",
        "legend": {
         "x": 0.4,
         "y": 1
        },
        "title": "Total Cumulative Investments Over Time",
        "xaxis": {
         "title": "Ticker"
        },
        "yaxis": {
         "title": "Returns"
        },
        "yaxis2": {
         "overlaying": "y",
         "side": "right",
         "title": "Cum ROI Mult"
        }
       }
      },
      "text/html": [
       "<div id=\"e9b7b83a-2fc4-4e97-9bb6-b4ee168723ea\" style=\"height: 525px; width: 100%;\" class=\"plotly-graph-div\"></div><script type=\"text/javascript\">require([\"plotly\"], function(Plotly) { window.PLOTLYENV=window.PLOTLYENV || {};window.PLOTLYENV.BASE_URL=\"https://plot.ly\";Plotly.newPlot(\"e9b7b83a-2fc4-4e97-9bb6-b4ee168723ea\", [{\"y\": [8175.000000000001, 16173.0, 24363.0, 32862.0, 41040.0, 49193.25, 57378.75, 65916.25], \"x\": [\"AAPL\", \"FB\", \"JNJ\", \"MCD\", \"MTCH\", \"NFLX\", \"TWTR\", \"WMT\"], \"type\": \"bar\", \"name\": \"Cum Invst\"}, {\"y\": [15092.328741753337, 27646.11514745398, 39953.79537919792, 54470.98875863499, 65741.63510871073, 77563.43234930417, 88852.00780205107, 102967.6378602664], \"x\": [\"AAPL\", \"FB\", \"JNJ\", \"MCD\", \"MTCH\", \"NFLX\", \"TWTR\", \"WMT\"], \"type\": \"bar\", \"name\": \"Cum SP500 Returns\"}, {\"y\": [22497.4995, 50281.998900000006, 63661.999200000006, 79385.9997, 106260.0003, 131118.00045, 139071.75, 150161.750125], \"x\": [\"AAPL\", \"FB\", \"JNJ\", \"MCD\", \"MTCH\", \"NFLX\", \"TWTR\", \"WMT\"], \"type\": \"bar\", \"name\": \"Cum Ticker Returns\"}, {\"y\": [2.7519877064220184, 3.109008773882397, 2.6130607560645243, 2.415738533868906, 2.589181293859649, 2.6653656843164457, 2.4237500816940067, 2.2780687633929415], \"x\": [\"AAPL\", \"FB\", \"JNJ\", \"MCD\", \"MTCH\", \"NFLX\", \"TWTR\", \"WMT\"], \"type\": \"scatter\", \"name\": \"Cum ROI Mult\", \"yaxis\": \"y2\"}], {\"title\": \"Total Cumulative Investments Over Time\", \"yaxis\": {\"title\": \"Returns\"}, \"barmode\": \"group\", \"yaxis2\": {\"overlaying\": \"y\", \"side\": \"right\", \"title\": \"Cum ROI Mult\"}, \"xaxis\": {\"title\": \"Ticker\"}, \"legend\": {\"y\": 1, \"x\": 0.4}}, {\"linkText\": \"Export to plot.ly\", \"showLink\": true})});</script>"
      ],
      "text/vnd.plotly.v1+html": [
       "<div id=\"e9b7b83a-2fc4-4e97-9bb6-b4ee168723ea\" style=\"height: 525px; width: 100%;\" class=\"plotly-graph-div\"></div><script type=\"text/javascript\">require([\"plotly\"], function(Plotly) { window.PLOTLYENV=window.PLOTLYENV || {};window.PLOTLYENV.BASE_URL=\"https://plot.ly\";Plotly.newPlot(\"e9b7b83a-2fc4-4e97-9bb6-b4ee168723ea\", [{\"y\": [8175.000000000001, 16173.0, 24363.0, 32862.0, 41040.0, 49193.25, 57378.75, 65916.25], \"x\": [\"AAPL\", \"FB\", \"JNJ\", \"MCD\", \"MTCH\", \"NFLX\", \"TWTR\", \"WMT\"], \"type\": \"bar\", \"name\": \"Cum Invst\"}, {\"y\": [15092.328741753337, 27646.11514745398, 39953.79537919792, 54470.98875863499, 65741.63510871073, 77563.43234930417, 88852.00780205107, 102967.6378602664], \"x\": [\"AAPL\", \"FB\", \"JNJ\", \"MCD\", \"MTCH\", \"NFLX\", \"TWTR\", \"WMT\"], \"type\": \"bar\", \"name\": \"Cum SP500 Returns\"}, {\"y\": [22497.4995, 50281.998900000006, 63661.999200000006, 79385.9997, 106260.0003, 131118.00045, 139071.75, 150161.750125], \"x\": [\"AAPL\", \"FB\", \"JNJ\", \"MCD\", \"MTCH\", \"NFLX\", \"TWTR\", \"WMT\"], \"type\": \"bar\", \"name\": \"Cum Ticker Returns\"}, {\"y\": [2.7519877064220184, 3.109008773882397, 2.6130607560645243, 2.415738533868906, 2.589181293859649, 2.6653656843164457, 2.4237500816940067, 2.2780687633929415], \"x\": [\"AAPL\", \"FB\", \"JNJ\", \"MCD\", \"MTCH\", \"NFLX\", \"TWTR\", \"WMT\"], \"type\": \"scatter\", \"name\": \"Cum ROI Mult\", \"yaxis\": \"y2\"}], {\"title\": \"Total Cumulative Investments Over Time\", \"yaxis\": {\"title\": \"Returns\"}, \"barmode\": \"group\", \"yaxis2\": {\"overlaying\": \"y\", \"side\": \"right\", \"title\": \"Cum ROI Mult\"}, \"xaxis\": {\"title\": \"Ticker\"}, \"legend\": {\"y\": 1, \"x\": 0.4}}, {\"linkText\": \"Export to plot.ly\", \"showLink\": true})});</script>"
      ]
     },
     "metadata": {},
     "output_type": "display_data"
    }
   ],
   "source": [
    "trace1 = go.Bar(\n",
    "    x=merged_portfolio_sp_latest_YTD_sp_closing_high[\"Ticker\"],\n",
    "    y=merged_portfolio_sp_latest_YTD_sp_closing_high[\"Cum Invst\"],\n",
    "    # mode = 'lines+markers',\n",
    "    name=\"Cum Invst\",\n",
    ")\n",
    "\n",
    "trace2 = go.Bar(\n",
    "    x=merged_portfolio_sp_latest_YTD_sp_closing_high[\"Ticker\"],\n",
    "    y=merged_portfolio_sp_latest_YTD_sp_closing_high[\"Cum SP Returns\"],\n",
    "    # mode = 'lines+markers',\n",
    "    name=\"Cum SP500 Returns\",\n",
    ")\n",
    "\n",
    "trace3 = go.Bar(\n",
    "    x=merged_portfolio_sp_latest_YTD_sp_closing_high[\"Ticker\"],\n",
    "    y=merged_portfolio_sp_latest_YTD_sp_closing_high[\"Cum Ticker Returns\"],\n",
    "    # mode = 'lines+markers',\n",
    "    name=\"Cum Ticker Returns\",\n",
    ")\n",
    "\n",
    "trace4 = go.Scatter(\n",
    "    x=merged_portfolio_sp_latest_YTD_sp_closing_high[\"Ticker\"],\n",
    "    y=merged_portfolio_sp_latest_YTD_sp_closing_high[\"Cum Ticker ROI Mult\"],\n",
    "    # mode = 'lines+markers',\n",
    "    name=\"Cum ROI Mult\",\n",
    "    yaxis=\"y2\",\n",
    ")\n",
    "\n",
    "\n",
    "data = [trace1, trace2, trace3, trace4]\n",
    "\n",
    "layout = go.Layout(\n",
    "    title=\"Total Cumulative Investments Over Time\",\n",
    "    barmode=\"group\",\n",
    "    yaxis=dict(title=\"Returns\"),\n",
    "    xaxis=dict(title=\"Ticker\"),\n",
    "    legend=dict(x=0.4, y=1),\n",
    "    yaxis2=dict(title=\"Cum ROI Mult\", overlaying=\"y\", side=\"right\"),\n",
    ")\n",
    "\n",
    "fig = go.Figure(data=data, layout=layout)\n",
    "iplot(fig)"
   ]
  }
 ],
 "metadata": {
  "kernelspec": {
   "display_name": ".venv",
   "language": "python",
   "name": "python3"
  },
  "language_info": {
   "codemirror_mode": {
    "name": "ipython",
    "version": 3
   },
   "file_extension": ".py",
   "mimetype": "text/x-python",
   "name": "python",
   "nbconvert_exporter": "python",
   "pygments_lexer": "ipython3",
   "version": "3.10.12"
  }
 },
 "nbformat": 4,
 "nbformat_minor": 2
}
